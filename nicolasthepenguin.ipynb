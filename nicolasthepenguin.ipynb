{
  "cells": [
    {
      "cell_type": "markdown",
      "metadata": {
        "colab_type": "text",
        "id": "view-in-github"
      },
      "source": [
        "<a href=\"https://colab.research.google.com/github/KaikySr/AulaPrograma-o1Senai/blob/master/nicolasatartaruga.ipynb\" target=\"_parent\"><img src=\"https://colab.research.google.com/assets/colab-badge.svg\" alt=\"Open In Colab\"/></a>"
      ]
    },
    {
      "cell_type": "code",
      "execution_count": 1,
      "metadata": {
        "id": "VP6qo5fNwiwM"
      },
      "outputs": [
        {
          "name": "stdout",
          "output_type": "stream",
          "text": [
            "Defaulting to user installation because normal site-packages is not writeable\n",
            "Requirement already satisfied: tensorflow in c:\\users\\disrct\\appdata\\roaming\\python\\python311\\site-packages (2.15.0)\n",
            "Requirement already satisfied: tensorflow-intel==2.15.0 in c:\\users\\disrct\\appdata\\roaming\\python\\python311\\site-packages (from tensorflow) (2.15.0)\n",
            "Requirement already satisfied: absl-py>=1.0.0 in c:\\users\\disrct\\appdata\\roaming\\python\\python311\\site-packages (from tensorflow-intel==2.15.0->tensorflow) (2.0.0)\n",
            "Requirement already satisfied: astunparse>=1.6.0 in c:\\users\\disrct\\appdata\\roaming\\python\\python311\\site-packages (from tensorflow-intel==2.15.0->tensorflow) (1.6.3)\n",
            "Requirement already satisfied: flatbuffers>=23.5.26 in c:\\users\\disrct\\appdata\\roaming\\python\\python311\\site-packages (from tensorflow-intel==2.15.0->tensorflow) (23.5.26)\n",
            "Requirement already satisfied: gast!=0.5.0,!=0.5.1,!=0.5.2,>=0.2.1 in c:\\users\\disrct\\appdata\\roaming\\python\\python311\\site-packages (from tensorflow-intel==2.15.0->tensorflow) (0.5.4)\n",
            "Requirement already satisfied: google-pasta>=0.1.1 in c:\\users\\disrct\\appdata\\roaming\\python\\python311\\site-packages (from tensorflow-intel==2.15.0->tensorflow) (0.2.0)\n",
            "Requirement already satisfied: h5py>=2.9.0 in c:\\users\\disrct\\appdata\\roaming\\python\\python311\\site-packages (from tensorflow-intel==2.15.0->tensorflow) (3.10.0)\n",
            "Requirement already satisfied: libclang>=13.0.0 in c:\\users\\disrct\\appdata\\roaming\\python\\python311\\site-packages (from tensorflow-intel==2.15.0->tensorflow) (16.0.6)\n",
            "Requirement already satisfied: ml-dtypes~=0.2.0 in c:\\users\\disrct\\appdata\\roaming\\python\\python311\\site-packages (from tensorflow-intel==2.15.0->tensorflow) (0.2.0)\n",
            "Requirement already satisfied: numpy<2.0.0,>=1.23.5 in c:\\users\\disrct\\appdata\\roaming\\python\\python311\\site-packages (from tensorflow-intel==2.15.0->tensorflow) (1.25.2)\n",
            "Requirement already satisfied: opt-einsum>=2.3.2 in c:\\users\\disrct\\appdata\\roaming\\python\\python311\\site-packages (from tensorflow-intel==2.15.0->tensorflow) (3.3.0)\n",
            "Requirement already satisfied: packaging in c:\\users\\disrct\\appdata\\roaming\\python\\python311\\site-packages (from tensorflow-intel==2.15.0->tensorflow) (23.1)\n",
            "Requirement already satisfied: protobuf!=4.21.0,!=4.21.1,!=4.21.2,!=4.21.3,!=4.21.4,!=4.21.5,<5.0.0dev,>=3.20.3 in c:\\users\\disrct\\appdata\\roaming\\python\\python311\\site-packages (from tensorflow-intel==2.15.0->tensorflow) (4.23.4)\n",
            "Requirement already satisfied: setuptools in c:\\program files\\python311\\lib\\site-packages (from tensorflow-intel==2.15.0->tensorflow) (65.5.0)\n",
            "Requirement already satisfied: six>=1.12.0 in c:\\users\\disrct\\appdata\\roaming\\python\\python311\\site-packages (from tensorflow-intel==2.15.0->tensorflow) (1.16.0)\n",
            "Requirement already satisfied: termcolor>=1.1.0 in c:\\users\\disrct\\appdata\\roaming\\python\\python311\\site-packages (from tensorflow-intel==2.15.0->tensorflow) (2.3.0)\n",
            "Requirement already satisfied: typing-extensions>=3.6.6 in c:\\users\\disrct\\appdata\\roaming\\python\\python311\\site-packages (from tensorflow-intel==2.15.0->tensorflow) (4.8.0)\n",
            "Requirement already satisfied: wrapt<1.15,>=1.11.0 in c:\\users\\disrct\\appdata\\roaming\\python\\python311\\site-packages (from tensorflow-intel==2.15.0->tensorflow) (1.14.1)\n",
            "Requirement already satisfied: tensorflow-io-gcs-filesystem>=0.23.1 in c:\\users\\disrct\\appdata\\roaming\\python\\python311\\site-packages (from tensorflow-intel==2.15.0->tensorflow) (0.31.0)\n",
            "Requirement already satisfied: grpcio<2.0,>=1.24.3 in c:\\users\\disrct\\appdata\\roaming\\python\\python311\\site-packages (from tensorflow-intel==2.15.0->tensorflow) (1.59.3)\n",
            "Requirement already satisfied: tensorboard<2.16,>=2.15 in c:\\users\\disrct\\appdata\\roaming\\python\\python311\\site-packages (from tensorflow-intel==2.15.0->tensorflow) (2.15.1)\n",
            "Requirement already satisfied: tensorflow-estimator<2.16,>=2.15.0 in c:\\users\\disrct\\appdata\\roaming\\python\\python311\\site-packages (from tensorflow-intel==2.15.0->tensorflow) (2.15.0)\n",
            "Requirement already satisfied: keras<2.16,>=2.15.0 in c:\\users\\disrct\\appdata\\roaming\\python\\python311\\site-packages (from tensorflow-intel==2.15.0->tensorflow) (2.15.0)\n",
            "Requirement already satisfied: wheel<1.0,>=0.23.0 in c:\\users\\disrct\\appdata\\roaming\\python\\python311\\site-packages (from astunparse>=1.6.0->tensorflow-intel==2.15.0->tensorflow) (0.41.3)\n",
            "Requirement already satisfied: google-auth<3,>=1.6.3 in c:\\users\\disrct\\appdata\\roaming\\python\\python311\\site-packages (from tensorboard<2.16,>=2.15->tensorflow-intel==2.15.0->tensorflow) (2.23.4)\n",
            "Requirement already satisfied: google-auth-oauthlib<2,>=0.5 in c:\\users\\disrct\\appdata\\roaming\\python\\python311\\site-packages (from tensorboard<2.16,>=2.15->tensorflow-intel==2.15.0->tensorflow) (1.1.0)\n",
            "Requirement already satisfied: markdown>=2.6.8 in c:\\users\\disrct\\appdata\\roaming\\python\\python311\\site-packages (from tensorboard<2.16,>=2.15->tensorflow-intel==2.15.0->tensorflow) (3.5.1)\n",
            "Requirement already satisfied: requests<3,>=2.21.0 in c:\\users\\disrct\\appdata\\roaming\\python\\python311\\site-packages (from tensorboard<2.16,>=2.15->tensorflow-intel==2.15.0->tensorflow) (2.31.0)\n",
            "Requirement already satisfied: tensorboard-data-server<0.8.0,>=0.7.0 in c:\\users\\disrct\\appdata\\roaming\\python\\python311\\site-packages (from tensorboard<2.16,>=2.15->tensorflow-intel==2.15.0->tensorflow) (0.7.2)\n",
            "Requirement already satisfied: werkzeug>=1.0.1 in c:\\users\\disrct\\appdata\\roaming\\python\\python311\\site-packages (from tensorboard<2.16,>=2.15->tensorflow-intel==2.15.0->tensorflow) (3.0.1)\n",
            "Requirement already satisfied: cachetools<6.0,>=2.0.0 in c:\\users\\disrct\\appdata\\roaming\\python\\python311\\site-packages (from google-auth<3,>=1.6.3->tensorboard<2.16,>=2.15->tensorflow-intel==2.15.0->tensorflow) (5.3.2)\n",
            "Requirement already satisfied: pyasn1-modules>=0.2.1 in c:\\users\\disrct\\appdata\\roaming\\python\\python311\\site-packages (from google-auth<3,>=1.6.3->tensorboard<2.16,>=2.15->tensorflow-intel==2.15.0->tensorflow) (0.3.0)\n",
            "Requirement already satisfied: rsa<5,>=3.1.4 in c:\\users\\disrct\\appdata\\roaming\\python\\python311\\site-packages (from google-auth<3,>=1.6.3->tensorboard<2.16,>=2.15->tensorflow-intel==2.15.0->tensorflow) (4.9)\n",
            "Requirement already satisfied: requests-oauthlib>=0.7.0 in c:\\users\\disrct\\appdata\\roaming\\python\\python311\\site-packages (from google-auth-oauthlib<2,>=0.5->tensorboard<2.16,>=2.15->tensorflow-intel==2.15.0->tensorflow) (1.3.1)\n",
            "Requirement already satisfied: charset-normalizer<4,>=2 in c:\\users\\disrct\\appdata\\roaming\\python\\python311\\site-packages (from requests<3,>=2.21.0->tensorboard<2.16,>=2.15->tensorflow-intel==2.15.0->tensorflow) (3.2.0)\n",
            "Requirement already satisfied: idna<4,>=2.5 in c:\\users\\disrct\\appdata\\roaming\\python\\python311\\site-packages (from requests<3,>=2.21.0->tensorboard<2.16,>=2.15->tensorflow-intel==2.15.0->tensorflow) (3.4)\n",
            "Requirement already satisfied: urllib3<3,>=1.21.1 in c:\\users\\disrct\\appdata\\roaming\\python\\python311\\site-packages (from requests<3,>=2.21.0->tensorboard<2.16,>=2.15->tensorflow-intel==2.15.0->tensorflow) (2.0.4)\n",
            "Requirement already satisfied: certifi>=2017.4.17 in c:\\users\\disrct\\appdata\\roaming\\python\\python311\\site-packages (from requests<3,>=2.21.0->tensorboard<2.16,>=2.15->tensorflow-intel==2.15.0->tensorflow) (2023.7.22)\n",
            "Requirement already satisfied: MarkupSafe>=2.1.1 in c:\\users\\disrct\\appdata\\roaming\\python\\python311\\site-packages (from werkzeug>=1.0.1->tensorboard<2.16,>=2.15->tensorflow-intel==2.15.0->tensorflow) (2.1.3)\n",
            "Requirement already satisfied: pyasn1<0.6.0,>=0.4.6 in c:\\users\\disrct\\appdata\\roaming\\python\\python311\\site-packages (from pyasn1-modules>=0.2.1->google-auth<3,>=1.6.3->tensorboard<2.16,>=2.15->tensorflow-intel==2.15.0->tensorflow) (0.5.1)\n",
            "Requirement already satisfied: oauthlib>=3.0.0 in c:\\users\\disrct\\appdata\\roaming\\python\\python311\\site-packages (from requests-oauthlib>=0.7.0->google-auth-oauthlib<2,>=0.5->tensorboard<2.16,>=2.15->tensorflow-intel==2.15.0->tensorflow) (3.2.2)\n",
            "Note: you may need to restart the kernel to use updated packages.\n"
          ]
        },
        {
          "name": "stderr",
          "output_type": "stream",
          "text": [
            "\n",
            "[notice] A new release of pip is available: 23.2.1 -> 23.3.1\n",
            "[notice] To update, run: python.exe -m pip install --upgrade pip\n"
          ]
        },
        {
          "name": "stdout",
          "output_type": "stream",
          "text": [
            "Defaulting to user installation because normal site-packages is not writeable\n",
            "Requirement already satisfied: keras in c:\\users\\disrct\\appdata\\roaming\\python\\python311\\site-packages (2.15.0)\n",
            "Note: you may need to restart the kernel to use updated packages.\n"
          ]
        },
        {
          "name": "stderr",
          "output_type": "stream",
          "text": [
            "\n",
            "[notice] A new release of pip is available: 23.2.1 -> 23.3.1\n",
            "[notice] To update, run: python.exe -m pip install --upgrade pip\n"
          ]
        }
      ],
      "source": [
        "%pip install tensorflow\n",
        "%pip install keras"
      ]
    },
    {
      "cell_type": "code",
      "execution_count": 2,
      "metadata": {
        "id": "K8mLJWHwwn2E"
      },
      "outputs": [
        {
          "name": "stdout",
          "output_type": "stream",
          "text": [
            "WARNING:tensorflow:From C:\\Users\\disrct\\AppData\\Roaming\\Python\\Python311\\site-packages\\keras\\src\\losses.py:2976: The name tf.losses.sparse_softmax_cross_entropy is deprecated. Please use tf.compat.v1.losses.sparse_softmax_cross_entropy instead.\n",
            "\n"
          ]
        }
      ],
      "source": [
        "from keras import models\n",
        "from keras import layers\n",
        "from keras import activations\n",
        "from keras import initializers\n",
        "from keras import regularizers\n",
        "from keras import optimizers\n",
        "from keras import losses\n",
        "from keras import metrics\n",
        "from keras import callbacks\n",
        "from keras.preprocessing import image"
      ]
    },
    {
      "cell_type": "code",
      "execution_count": 52,
      "metadata": {
        "id": "Vn_FN2Y-xJgw"
      },
      "outputs": [],
      "source": [
        "model = models.Sequential()\n",
        "\n",
        "model.add(layers.Conv2D(\n",
        "    32, (5, 5),\n",
        "    input_shape = (64, 64, 3),\n",
        "    activation = 'relu'\n",
        "))\n",
        "model.add(layers.MaxPooling2D(\n",
        "    pool_size = (2, 2)\n",
        "))"
      ]
    },
    {
      "cell_type": "code",
      "execution_count": 53,
      "metadata": {
        "id": "l_c1IryvzU-D"
      },
      "outputs": [],
      "source": [
        "model.add(layers.Conv2D(\n",
        "    16, (5, 5),\n",
        "    input_shape = (30, 30, 3),\n",
        "    activation = 'relu'\n",
        "))\n",
        "model.add(layers.MaxPooling2D(\n",
        "    pool_size = (2, 2)\n",
        "))"
      ]
    },
    {
      "cell_type": "code",
      "execution_count": 54,
      "metadata": {
        "id": "09lazt7K2nAk"
      },
      "outputs": [],
      "source": [
        "model.add(layers.Flatten())\n",
        "\n",
        "model.add(layers.Dense(256))"
      ]
    },
    {
      "cell_type": "code",
      "execution_count": 55,
      "metadata": {
        "id": "nca9sICGQZRB"
      },
      "outputs": [],
      "source": [
        "model.add(layers.Dense(64))\n",
        "model.add(layers.Activation(activations.relu))\n",
        "\n",
        "model.add(layers.Dropout(0.2))\n",
        "\n",
        "model.add(layers.Dense(64))\n",
        "model.add(layers.Activation(activations.relu))\n",
        "\n",
        "model.add(layers.Dropout(0.2))\n",
        "\n",
        "model.add(layers.Dense(2))\n",
        "model.add(layers.Activation(activations.softmax))"
      ]
    },
    {
      "cell_type": "code",
      "execution_count": 56,
      "metadata": {
        "id": "ANu9Dwl4Q_Oo"
      },
      "outputs": [],
      "source": [
        "model.compile(\n",
        "    optimizer = optimizers.Adam(),\n",
        "    loss = losses.BinaryCrossentropy(),\n",
        "    metrics=[metrics.CategoricalAccuracy(), metrics.Precision()]\n",
        ")"
      ]
    },
    {
      "cell_type": "code",
      "execution_count": 57,
      "metadata": {
        "id": "69rmvrnOTfNh"
      },
      "outputs": [],
      "source": [
        "dataGen = image.ImageDataGenerator(\n",
        "    rescale = 1.0/255,\n",
        "    shear_range = 0.2,\n",
        "    zoom_range = 0.2,\n",
        "    horizontal_flip = True,\n",
        "    vertical_flip = False,\n",
        "    validation_split = 0.2\n",
        ")"
      ]
    },
    {
      "cell_type": "code",
      "execution_count": 58,
      "metadata": {
        "id": "vqbuHxfHVWRI"
      },
      "outputs": [
        {
          "name": "stdout",
          "output_type": "stream",
          "text": [
            "Found 484 images belonging to 2 classes.\n",
            "Found 120 images belonging to 2 classes.\n"
          ]
        }
      ],
      "source": [
        "X_train = dataGen.flow_from_directory(\n",
        "    './Images',\n",
        "    target_size = (64, 64),\n",
        "    batch_size = 32,\n",
        "    class_mode = 'categorical',\n",
        "    subset = 'training'\n",
        ")\n",
        "\n",
        "X_tests = dataGen.flow_from_directory(\n",
        "    './Images',\n",
        "    target_size = (64, 64),\n",
        "    batch_size = 32,\n",
        "    class_mode = 'categorical',\n",
        "    subset = 'validation'\n",
        ")"
      ]
    },
    {
      "cell_type": "code",
      "execution_count": 59,
      "metadata": {},
      "outputs": [],
      "source": [
        "total_data = 483\n",
        "batch_size = 32"
      ]
    },
    {
      "cell_type": "code",
      "execution_count": 60,
      "metadata": {
        "id": "XAZ6pvbfWFMw"
      },
      "outputs": [
        {
          "name": "stdout",
          "output_type": "stream",
          "text": [
            "Epoch 1/50\n",
            "16/15 [===============================] - ETA: -2s - loss: 0.6781 - categorical_accuracy: 0.5950 - precision_5: 0.5950INFO:tensorflow:Assets written to: model.01h5\\assets\n"
          ]
        },
        {
          "name": "stderr",
          "output_type": "stream",
          "text": [
            "INFO:tensorflow:Assets written to: model.01h5\\assets\n"
          ]
        },
        {
          "name": "stdout",
          "output_type": "stream",
          "text": [
            "15/15 [==============================] - 57s 4s/step - loss: 0.6781 - categorical_accuracy: 0.5950 - precision_5: 0.5950 - val_loss: 0.6770 - val_categorical_accuracy: 0.6875 - val_precision_5: 0.6875\n",
            "Epoch 2/50\n",
            "16/15 [===============================] - ETA: -2s - loss: 0.6131 - categorical_accuracy: 0.7025 - precision_5: 0.7025INFO:tensorflow:Assets written to: model.02h5\\assets\n"
          ]
        },
        {
          "name": "stderr",
          "output_type": "stream",
          "text": [
            "INFO:tensorflow:Assets written to: model.02h5\\assets\n"
          ]
        },
        {
          "name": "stdout",
          "output_type": "stream",
          "text": [
            "15/15 [==============================] - 52s 4s/step - loss: 0.6131 - categorical_accuracy: 0.7025 - precision_5: 0.7025 - val_loss: 0.6741 - val_categorical_accuracy: 0.6094 - val_precision_5: 0.6094\n",
            "Epoch 3/50\n",
            "16/15 [===============================] - ETA: -2s - loss: 0.5923 - categorical_accuracy: 0.7087 - precision_5: 0.7087INFO:tensorflow:Assets written to: model.03h5\\assets\n"
          ]
        },
        {
          "name": "stderr",
          "output_type": "stream",
          "text": [
            "INFO:tensorflow:Assets written to: model.03h5\\assets\n"
          ]
        },
        {
          "name": "stdout",
          "output_type": "stream",
          "text": [
            "15/15 [==============================] - 52s 4s/step - loss: 0.5923 - categorical_accuracy: 0.7087 - precision_5: 0.7087 - val_loss: 0.5634 - val_categorical_accuracy: 0.7812 - val_precision_5: 0.7812\n",
            "Epoch 4/50\n",
            "16/15 [===============================] - ETA: -2s - loss: 0.5058 - categorical_accuracy: 0.8037 - precision_5: 0.8037INFO:tensorflow:Assets written to: model.04h5\\assets\n"
          ]
        },
        {
          "name": "stderr",
          "output_type": "stream",
          "text": [
            "INFO:tensorflow:Assets written to: model.04h5\\assets\n"
          ]
        },
        {
          "name": "stdout",
          "output_type": "stream",
          "text": [
            "15/15 [==============================] - 53s 4s/step - loss: 0.5058 - categorical_accuracy: 0.8037 - precision_5: 0.8037 - val_loss: 0.5248 - val_categorical_accuracy: 0.8125 - val_precision_5: 0.8125\n",
            "Epoch 5/50\n",
            "16/15 [===============================] - ETA: -2s - loss: 0.4233 - categorical_accuracy: 0.8347 - precision_5: 0.8347INFO:tensorflow:Assets written to: model.05h5\\assets\n"
          ]
        },
        {
          "name": "stderr",
          "output_type": "stream",
          "text": [
            "INFO:tensorflow:Assets written to: model.05h5\\assets\n"
          ]
        },
        {
          "name": "stdout",
          "output_type": "stream",
          "text": [
            "15/15 [==============================] - 56s 4s/step - loss: 0.4233 - categorical_accuracy: 0.8347 - precision_5: 0.8347 - val_loss: 0.3491 - val_categorical_accuracy: 0.8750 - val_precision_5: 0.8750\n",
            "Epoch 6/50\n",
            "16/15 [===============================] - ETA: -2s - loss: 0.4237 - categorical_accuracy: 0.8285 - precision_5: 0.8285INFO:tensorflow:Assets written to: model.06h5\\assets\n"
          ]
        },
        {
          "name": "stderr",
          "output_type": "stream",
          "text": [
            "INFO:tensorflow:Assets written to: model.06h5\\assets\n"
          ]
        },
        {
          "name": "stdout",
          "output_type": "stream",
          "text": [
            "15/15 [==============================] - 56s 4s/step - loss: 0.4237 - categorical_accuracy: 0.8285 - precision_5: 0.8285 - val_loss: 0.4839 - val_categorical_accuracy: 0.7500 - val_precision_5: 0.7500\n",
            "Epoch 7/50\n",
            "16/15 [===============================] - ETA: -2s - loss: 0.3969 - categorical_accuracy: 0.8161 - precision_5: 0.8161INFO:tensorflow:Assets written to: model.07h5\\assets\n"
          ]
        },
        {
          "name": "stderr",
          "output_type": "stream",
          "text": [
            "INFO:tensorflow:Assets written to: model.07h5\\assets\n"
          ]
        },
        {
          "name": "stdout",
          "output_type": "stream",
          "text": [
            "15/15 [==============================] - 53s 3s/step - loss: 0.3969 - categorical_accuracy: 0.8161 - precision_5: 0.8161 - val_loss: 0.4555 - val_categorical_accuracy: 0.7969 - val_precision_5: 0.7969\n",
            "Epoch 8/50\n",
            "16/15 [===============================] - ETA: -2s - loss: 0.3387 - categorical_accuracy: 0.8719 - precision_5: 0.8719INFO:tensorflow:Assets written to: model.08h5\\assets\n"
          ]
        },
        {
          "name": "stderr",
          "output_type": "stream",
          "text": [
            "INFO:tensorflow:Assets written to: model.08h5\\assets\n"
          ]
        },
        {
          "name": "stdout",
          "output_type": "stream",
          "text": [
            "15/15 [==============================] - 53s 4s/step - loss: 0.3387 - categorical_accuracy: 0.8719 - precision_5: 0.8719 - val_loss: 0.7049 - val_categorical_accuracy: 0.7500 - val_precision_5: 0.7500\n",
            "Epoch 9/50\n",
            "16/15 [===============================] - ETA: -2s - loss: 0.4065 - categorical_accuracy: 0.8388 - precision_5: 0.8388INFO:tensorflow:Assets written to: model.09h5\\assets\n"
          ]
        },
        {
          "name": "stderr",
          "output_type": "stream",
          "text": [
            "INFO:tensorflow:Assets written to: model.09h5\\assets\n"
          ]
        },
        {
          "name": "stdout",
          "output_type": "stream",
          "text": [
            "15/15 [==============================] - 53s 4s/step - loss: 0.4065 - categorical_accuracy: 0.8388 - precision_5: 0.8388 - val_loss: 0.4246 - val_categorical_accuracy: 0.8281 - val_precision_5: 0.8281\n",
            "Epoch 10/50\n",
            "16/15 [===============================] - ETA: -2s - loss: 0.3430 - categorical_accuracy: 0.8616 - precision_5: 0.8616INFO:tensorflow:Assets written to: model.10h5\\assets\n"
          ]
        },
        {
          "name": "stderr",
          "output_type": "stream",
          "text": [
            "INFO:tensorflow:Assets written to: model.10h5\\assets\n"
          ]
        },
        {
          "name": "stdout",
          "output_type": "stream",
          "text": [
            "15/15 [==============================] - 53s 4s/step - loss: 0.3430 - categorical_accuracy: 0.8616 - precision_5: 0.8616 - val_loss: 0.6013 - val_categorical_accuracy: 0.8281 - val_precision_5: 0.8281\n",
            "Epoch 11/50\n",
            "16/15 [===============================] - ETA: -2s - loss: 0.3518 - categorical_accuracy: 0.8533 - precision_5: 0.8533INFO:tensorflow:Assets written to: model.11h5\\assets\n"
          ]
        },
        {
          "name": "stderr",
          "output_type": "stream",
          "text": [
            "INFO:tensorflow:Assets written to: model.11h5\\assets\n"
          ]
        },
        {
          "name": "stdout",
          "output_type": "stream",
          "text": [
            "15/15 [==============================] - 52s 3s/step - loss: 0.3518 - categorical_accuracy: 0.8533 - precision_5: 0.8533 - val_loss: 0.5029 - val_categorical_accuracy: 0.7656 - val_precision_5: 0.7656\n",
            "Epoch 12/50\n",
            "16/15 [===============================] - ETA: -2s - loss: 0.3189 - categorical_accuracy: 0.8678 - precision_5: 0.8678INFO:tensorflow:Assets written to: model.12h5\\assets\n"
          ]
        },
        {
          "name": "stderr",
          "output_type": "stream",
          "text": [
            "INFO:tensorflow:Assets written to: model.12h5\\assets\n"
          ]
        },
        {
          "name": "stdout",
          "output_type": "stream",
          "text": [
            "15/15 [==============================] - 52s 3s/step - loss: 0.3189 - categorical_accuracy: 0.8678 - precision_5: 0.8678 - val_loss: 0.4289 - val_categorical_accuracy: 0.8750 - val_precision_5: 0.8750\n",
            "Epoch 13/50\n",
            "16/15 [===============================] - ETA: -2s - loss: 0.3680 - categorical_accuracy: 0.8430 - precision_5: 0.8430INFO:tensorflow:Assets written to: model.13h5\\assets\n"
          ]
        },
        {
          "name": "stderr",
          "output_type": "stream",
          "text": [
            "INFO:tensorflow:Assets written to: model.13h5\\assets\n"
          ]
        },
        {
          "name": "stdout",
          "output_type": "stream",
          "text": [
            "15/15 [==============================] - 52s 3s/step - loss: 0.3680 - categorical_accuracy: 0.8430 - precision_5: 0.8430 - val_loss: 0.3763 - val_categorical_accuracy: 0.8281 - val_precision_5: 0.8281\n",
            "Epoch 14/50\n",
            "16/15 [===============================] - ETA: -2s - loss: 0.3336 - categorical_accuracy: 0.8678 - precision_5: 0.8678INFO:tensorflow:Assets written to: model.14h5\\assets\n"
          ]
        },
        {
          "name": "stderr",
          "output_type": "stream",
          "text": [
            "INFO:tensorflow:Assets written to: model.14h5\\assets\n"
          ]
        },
        {
          "name": "stdout",
          "output_type": "stream",
          "text": [
            "15/15 [==============================] - 52s 4s/step - loss: 0.3336 - categorical_accuracy: 0.8678 - precision_5: 0.8678 - val_loss: 0.5891 - val_categorical_accuracy: 0.7812 - val_precision_5: 0.7812\n",
            "Epoch 15/50\n",
            "16/15 [===============================] - ETA: -2s - loss: 0.2842 - categorical_accuracy: 0.8926 - precision_5: 0.8926INFO:tensorflow:Assets written to: model.15h5\\assets\n"
          ]
        },
        {
          "name": "stderr",
          "output_type": "stream",
          "text": [
            "INFO:tensorflow:Assets written to: model.15h5\\assets\n"
          ]
        },
        {
          "name": "stdout",
          "output_type": "stream",
          "text": [
            "15/15 [==============================] - 53s 4s/step - loss: 0.2842 - categorical_accuracy: 0.8926 - precision_5: 0.8926 - val_loss: 0.5403 - val_categorical_accuracy: 0.7969 - val_precision_5: 0.7969\n",
            "Epoch 16/50\n",
            "16/15 [===============================] - ETA: -2s - loss: 0.2383 - categorical_accuracy: 0.8946 - precision_5: 0.8946INFO:tensorflow:Assets written to: model.16h5\\assets\n"
          ]
        },
        {
          "name": "stderr",
          "output_type": "stream",
          "text": [
            "INFO:tensorflow:Assets written to: model.16h5\\assets\n"
          ]
        },
        {
          "name": "stdout",
          "output_type": "stream",
          "text": [
            "15/15 [==============================] - 52s 4s/step - loss: 0.2383 - categorical_accuracy: 0.8946 - precision_5: 0.8946 - val_loss: 0.6501 - val_categorical_accuracy: 0.7812 - val_precision_5: 0.7812\n",
            "Epoch 17/50\n",
            "16/15 [===============================] - ETA: -2s - loss: 0.3795 - categorical_accuracy: 0.8388 - precision_5: 0.8388INFO:tensorflow:Assets written to: model.17h5\\assets\n"
          ]
        },
        {
          "name": "stderr",
          "output_type": "stream",
          "text": [
            "INFO:tensorflow:Assets written to: model.17h5\\assets\n"
          ]
        },
        {
          "name": "stdout",
          "output_type": "stream",
          "text": [
            "15/15 [==============================] - 52s 3s/step - loss: 0.3795 - categorical_accuracy: 0.8388 - precision_5: 0.8388 - val_loss: 0.9184 - val_categorical_accuracy: 0.7344 - val_precision_5: 0.7344\n",
            "Epoch 18/50\n",
            "16/15 [===============================] - ETA: -2s - loss: 0.2762 - categorical_accuracy: 0.8905 - precision_5: 0.8905INFO:tensorflow:Assets written to: model.18h5\\assets\n"
          ]
        },
        {
          "name": "stderr",
          "output_type": "stream",
          "text": [
            "INFO:tensorflow:Assets written to: model.18h5\\assets\n"
          ]
        },
        {
          "name": "stdout",
          "output_type": "stream",
          "text": [
            "15/15 [==============================] - 53s 4s/step - loss: 0.2762 - categorical_accuracy: 0.8905 - precision_5: 0.8905 - val_loss: 1.0365 - val_categorical_accuracy: 0.7344 - val_precision_5: 0.7344\n",
            "Epoch 19/50\n",
            "16/15 [===============================] - ETA: -2s - loss: 0.2887 - categorical_accuracy: 0.8781 - precision_5: 0.8781INFO:tensorflow:Assets written to: model.19h5\\assets\n"
          ]
        },
        {
          "name": "stderr",
          "output_type": "stream",
          "text": [
            "INFO:tensorflow:Assets written to: model.19h5\\assets\n"
          ]
        },
        {
          "name": "stdout",
          "output_type": "stream",
          "text": [
            "15/15 [==============================] - 52s 4s/step - loss: 0.2887 - categorical_accuracy: 0.8781 - precision_5: 0.8781 - val_loss: 0.5792 - val_categorical_accuracy: 0.8125 - val_precision_5: 0.8125\n",
            "Epoch 20/50\n",
            "16/15 [===============================] - ETA: -2s - loss: 0.2614 - categorical_accuracy: 0.9008 - precision_5: 0.9008INFO:tensorflow:Assets written to: model.20h5\\assets\n"
          ]
        },
        {
          "name": "stderr",
          "output_type": "stream",
          "text": [
            "INFO:tensorflow:Assets written to: model.20h5\\assets\n"
          ]
        },
        {
          "name": "stdout",
          "output_type": "stream",
          "text": [
            "15/15 [==============================] - 53s 4s/step - loss: 0.2614 - categorical_accuracy: 0.9008 - precision_5: 0.9008 - val_loss: 0.6718 - val_categorical_accuracy: 0.8281 - val_precision_5: 0.8281\n",
            "Epoch 21/50\n",
            "16/15 [===============================] - ETA: -2s - loss: 0.1977 - categorical_accuracy: 0.9256 - precision_5: 0.9256INFO:tensorflow:Assets written to: model.21h5\\assets\n"
          ]
        },
        {
          "name": "stderr",
          "output_type": "stream",
          "text": [
            "INFO:tensorflow:Assets written to: model.21h5\\assets\n"
          ]
        },
        {
          "name": "stdout",
          "output_type": "stream",
          "text": [
            "15/15 [==============================] - 52s 4s/step - loss: 0.1977 - categorical_accuracy: 0.9256 - precision_5: 0.9256 - val_loss: 0.6753 - val_categorical_accuracy: 0.8594 - val_precision_5: 0.8594\n",
            "Epoch 22/50\n",
            "16/15 [===============================] - ETA: -2s - loss: 0.2204 - categorical_accuracy: 0.8967 - precision_5: 0.8967INFO:tensorflow:Assets written to: model.22h5\\assets\n"
          ]
        },
        {
          "name": "stderr",
          "output_type": "stream",
          "text": [
            "INFO:tensorflow:Assets written to: model.22h5\\assets\n"
          ]
        },
        {
          "name": "stdout",
          "output_type": "stream",
          "text": [
            "15/15 [==============================] - 52s 4s/step - loss: 0.2204 - categorical_accuracy: 0.8967 - precision_5: 0.8967 - val_loss: 0.5354 - val_categorical_accuracy: 0.8750 - val_precision_5: 0.8750\n",
            "Epoch 23/50\n",
            "16/15 [===============================] - ETA: -2s - loss: 0.2014 - categorical_accuracy: 0.9215 - precision_5: 0.9215INFO:tensorflow:Assets written to: model.23h5\\assets\n"
          ]
        },
        {
          "name": "stderr",
          "output_type": "stream",
          "text": [
            "INFO:tensorflow:Assets written to: model.23h5\\assets\n"
          ]
        },
        {
          "name": "stdout",
          "output_type": "stream",
          "text": [
            "15/15 [==============================] - 52s 3s/step - loss: 0.2014 - categorical_accuracy: 0.9215 - precision_5: 0.9215 - val_loss: 0.8357 - val_categorical_accuracy: 0.8281 - val_precision_5: 0.8281\n",
            "Epoch 24/50\n",
            "16/15 [===============================] - ETA: -2s - loss: 0.2378 - categorical_accuracy: 0.9091 - precision_5: 0.9091INFO:tensorflow:Assets written to: model.24h5\\assets\n"
          ]
        },
        {
          "name": "stderr",
          "output_type": "stream",
          "text": [
            "INFO:tensorflow:Assets written to: model.24h5\\assets\n"
          ]
        },
        {
          "name": "stdout",
          "output_type": "stream",
          "text": [
            "15/15 [==============================] - 54s 4s/step - loss: 0.2378 - categorical_accuracy: 0.9091 - precision_5: 0.9091 - val_loss: 0.6003 - val_categorical_accuracy: 0.8750 - val_precision_5: 0.8750\n",
            "Epoch 25/50\n",
            "16/15 [===============================] - ETA: -2s - loss: 0.2265 - categorical_accuracy: 0.9112 - precision_5: 0.9112INFO:tensorflow:Assets written to: model.25h5\\assets\n"
          ]
        },
        {
          "name": "stderr",
          "output_type": "stream",
          "text": [
            "INFO:tensorflow:Assets written to: model.25h5\\assets\n"
          ]
        },
        {
          "name": "stdout",
          "output_type": "stream",
          "text": [
            "15/15 [==============================] - 54s 4s/step - loss: 0.2265 - categorical_accuracy: 0.9112 - precision_5: 0.9112 - val_loss: 0.5184 - val_categorical_accuracy: 0.8438 - val_precision_5: 0.8438\n",
            "Epoch 26/50\n",
            "16/15 [===============================] - ETA: -2s - loss: 0.2275 - categorical_accuracy: 0.8988 - precision_5: 0.8988INFO:tensorflow:Assets written to: model.26h5\\assets\n"
          ]
        },
        {
          "name": "stderr",
          "output_type": "stream",
          "text": [
            "INFO:tensorflow:Assets written to: model.26h5\\assets\n"
          ]
        },
        {
          "name": "stdout",
          "output_type": "stream",
          "text": [
            "15/15 [==============================] - 53s 4s/step - loss: 0.2275 - categorical_accuracy: 0.8988 - precision_5: 0.8988 - val_loss: 0.6167 - val_categorical_accuracy: 0.8594 - val_precision_5: 0.8594\n",
            "Epoch 27/50\n",
            "16/15 [===============================] - ETA: -2s - loss: 0.1566 - categorical_accuracy: 0.9483 - precision_5: 0.9483INFO:tensorflow:Assets written to: model.27h5\\assets\n"
          ]
        },
        {
          "name": "stderr",
          "output_type": "stream",
          "text": [
            "INFO:tensorflow:Assets written to: model.27h5\\assets\n"
          ]
        },
        {
          "name": "stdout",
          "output_type": "stream",
          "text": [
            "15/15 [==============================] - 54s 3s/step - loss: 0.1566 - categorical_accuracy: 0.9483 - precision_5: 0.9483 - val_loss: 0.8909 - val_categorical_accuracy: 0.8438 - val_precision_5: 0.8438\n",
            "Epoch 28/50\n",
            "16/15 [===============================] - ETA: -2s - loss: 0.1407 - categorical_accuracy: 0.9421 - precision_5: 0.9421INFO:tensorflow:Assets written to: model.28h5\\assets\n"
          ]
        },
        {
          "name": "stderr",
          "output_type": "stream",
          "text": [
            "INFO:tensorflow:Assets written to: model.28h5\\assets\n"
          ]
        },
        {
          "name": "stdout",
          "output_type": "stream",
          "text": [
            "15/15 [==============================] - 51s 3s/step - loss: 0.1407 - categorical_accuracy: 0.9421 - precision_5: 0.9421 - val_loss: 0.5870 - val_categorical_accuracy: 0.8281 - val_precision_5: 0.8281\n",
            "Epoch 29/50\n",
            "16/15 [===============================] - ETA: -2s - loss: 0.1185 - categorical_accuracy: 0.9587 - precision_5: 0.9587INFO:tensorflow:Assets written to: model.29h5\\assets\n"
          ]
        },
        {
          "name": "stderr",
          "output_type": "stream",
          "text": [
            "INFO:tensorflow:Assets written to: model.29h5\\assets\n"
          ]
        },
        {
          "name": "stdout",
          "output_type": "stream",
          "text": [
            "15/15 [==============================] - 52s 4s/step - loss: 0.1185 - categorical_accuracy: 0.9587 - precision_5: 0.9587 - val_loss: 0.6534 - val_categorical_accuracy: 0.8750 - val_precision_5: 0.8750\n",
            "Epoch 30/50\n",
            "16/15 [===============================] - ETA: -2s - loss: 0.0850 - categorical_accuracy: 0.9711 - precision_5: 0.9711INFO:tensorflow:Assets written to: model.30h5\\assets\n"
          ]
        },
        {
          "name": "stderr",
          "output_type": "stream",
          "text": [
            "INFO:tensorflow:Assets written to: model.30h5\\assets\n"
          ]
        },
        {
          "name": "stdout",
          "output_type": "stream",
          "text": [
            "15/15 [==============================] - 51s 3s/step - loss: 0.0850 - categorical_accuracy: 0.9711 - precision_5: 0.9711 - val_loss: 0.5144 - val_categorical_accuracy: 0.8750 - val_precision_5: 0.8750\n",
            "Epoch 31/50\n",
            "16/15 [===============================] - ETA: -2s - loss: 0.0784 - categorical_accuracy: 0.9628 - precision_5: 0.9628INFO:tensorflow:Assets written to: model.31h5\\assets\n"
          ]
        },
        {
          "name": "stderr",
          "output_type": "stream",
          "text": [
            "INFO:tensorflow:Assets written to: model.31h5\\assets\n"
          ]
        },
        {
          "name": "stdout",
          "output_type": "stream",
          "text": [
            "15/15 [==============================] - 52s 4s/step - loss: 0.0784 - categorical_accuracy: 0.9628 - precision_5: 0.9628 - val_loss: 1.4191 - val_categorical_accuracy: 0.8125 - val_precision_5: 0.8125\n",
            "Epoch 32/50\n",
            "16/15 [===============================] - ETA: -2s - loss: 0.1082 - categorical_accuracy: 0.9587 - precision_5: 0.9587INFO:tensorflow:Assets written to: model.32h5\\assets\n"
          ]
        },
        {
          "name": "stderr",
          "output_type": "stream",
          "text": [
            "INFO:tensorflow:Assets written to: model.32h5\\assets\n"
          ]
        },
        {
          "name": "stdout",
          "output_type": "stream",
          "text": [
            "15/15 [==============================] - 53s 4s/step - loss: 0.1082 - categorical_accuracy: 0.9587 - precision_5: 0.9587 - val_loss: 0.6014 - val_categorical_accuracy: 0.8750 - val_precision_5: 0.8750\n",
            "Epoch 33/50\n",
            "16/15 [===============================] - ETA: -2s - loss: 0.2383 - categorical_accuracy: 0.9318 - precision_5: 0.9318INFO:tensorflow:Assets written to: model.33h5\\assets\n"
          ]
        },
        {
          "name": "stderr",
          "output_type": "stream",
          "text": [
            "INFO:tensorflow:Assets written to: model.33h5\\assets\n"
          ]
        },
        {
          "name": "stdout",
          "output_type": "stream",
          "text": [
            "15/15 [==============================] - 51s 3s/step - loss: 0.2383 - categorical_accuracy: 0.9318 - precision_5: 0.9318 - val_loss: 0.4960 - val_categorical_accuracy: 0.7500 - val_precision_5: 0.7500\n",
            "Epoch 34/50\n",
            "16/15 [===============================] - ETA: -2s - loss: 0.2049 - categorical_accuracy: 0.9112 - precision_5: 0.9112INFO:tensorflow:Assets written to: model.34h5\\assets\n"
          ]
        },
        {
          "name": "stderr",
          "output_type": "stream",
          "text": [
            "INFO:tensorflow:Assets written to: model.34h5\\assets\n"
          ]
        },
        {
          "name": "stdout",
          "output_type": "stream",
          "text": [
            "15/15 [==============================] - 52s 3s/step - loss: 0.2049 - categorical_accuracy: 0.9112 - precision_5: 0.9112 - val_loss: 0.7323 - val_categorical_accuracy: 0.7500 - val_precision_5: 0.7500\n",
            "Epoch 35/50\n",
            "16/15 [===============================] - ETA: -2s - loss: 0.2265 - categorical_accuracy: 0.9091 - precision_5: 0.9091INFO:tensorflow:Assets written to: model.35h5\\assets\n"
          ]
        },
        {
          "name": "stderr",
          "output_type": "stream",
          "text": [
            "INFO:tensorflow:Assets written to: model.35h5\\assets\n"
          ]
        },
        {
          "name": "stdout",
          "output_type": "stream",
          "text": [
            "15/15 [==============================] - 51s 3s/step - loss: 0.2265 - categorical_accuracy: 0.9091 - precision_5: 0.9091 - val_loss: 0.7310 - val_categorical_accuracy: 0.8125 - val_precision_5: 0.8125\n",
            "Epoch 36/50\n",
            "16/15 [===============================] - ETA: -2s - loss: 0.1359 - categorical_accuracy: 0.9566 - precision_5: 0.9566INFO:tensorflow:Assets written to: model.36h5\\assets\n"
          ]
        },
        {
          "name": "stderr",
          "output_type": "stream",
          "text": [
            "INFO:tensorflow:Assets written to: model.36h5\\assets\n"
          ]
        },
        {
          "name": "stdout",
          "output_type": "stream",
          "text": [
            "15/15 [==============================] - 52s 3s/step - loss: 0.1359 - categorical_accuracy: 0.9566 - precision_5: 0.9566 - val_loss: 0.7853 - val_categorical_accuracy: 0.8281 - val_precision_5: 0.8281\n",
            "Epoch 37/50\n",
            "16/15 [===============================] - ETA: -2s - loss: 0.0911 - categorical_accuracy: 0.9649 - precision_5: 0.9649INFO:tensorflow:Assets written to: model.37h5\\assets\n"
          ]
        },
        {
          "name": "stderr",
          "output_type": "stream",
          "text": [
            "INFO:tensorflow:Assets written to: model.37h5\\assets\n"
          ]
        },
        {
          "name": "stdout",
          "output_type": "stream",
          "text": [
            "15/15 [==============================] - 53s 4s/step - loss: 0.0911 - categorical_accuracy: 0.9649 - precision_5: 0.9649 - val_loss: 1.1988 - val_categorical_accuracy: 0.7969 - val_precision_5: 0.7969\n",
            "Epoch 38/50\n",
            "16/15 [===============================] - ETA: -2s - loss: 0.1497 - categorical_accuracy: 0.9566 - precision_5: 0.9566INFO:tensorflow:Assets written to: model.38h5\\assets\n"
          ]
        },
        {
          "name": "stderr",
          "output_type": "stream",
          "text": [
            "INFO:tensorflow:Assets written to: model.38h5\\assets\n"
          ]
        },
        {
          "name": "stdout",
          "output_type": "stream",
          "text": [
            "15/15 [==============================] - 53s 4s/step - loss: 0.1497 - categorical_accuracy: 0.9566 - precision_5: 0.9566 - val_loss: 1.0309 - val_categorical_accuracy: 0.8125 - val_precision_5: 0.8125\n",
            "Epoch 39/50\n",
            "16/15 [===============================] - ETA: -2s - loss: 0.1243 - categorical_accuracy: 0.9525 - precision_5: 0.9525INFO:tensorflow:Assets written to: model.39h5\\assets\n"
          ]
        },
        {
          "name": "stderr",
          "output_type": "stream",
          "text": [
            "INFO:tensorflow:Assets written to: model.39h5\\assets\n"
          ]
        },
        {
          "name": "stdout",
          "output_type": "stream",
          "text": [
            "15/15 [==============================] - 53s 4s/step - loss: 0.1243 - categorical_accuracy: 0.9525 - precision_5: 0.9525 - val_loss: 0.6481 - val_categorical_accuracy: 0.9062 - val_precision_5: 0.9062\n",
            "Epoch 40/50\n",
            "16/15 [===============================] - ETA: -2s - loss: 0.0536 - categorical_accuracy: 0.9835 - precision_5: 0.9835INFO:tensorflow:Assets written to: model.40h5\\assets\n"
          ]
        },
        {
          "name": "stderr",
          "output_type": "stream",
          "text": [
            "INFO:tensorflow:Assets written to: model.40h5\\assets\n"
          ]
        },
        {
          "name": "stdout",
          "output_type": "stream",
          "text": [
            "15/15 [==============================] - 53s 4s/step - loss: 0.0536 - categorical_accuracy: 0.9835 - precision_5: 0.9835 - val_loss: 0.8939 - val_categorical_accuracy: 0.8281 - val_precision_5: 0.8281\n",
            "Epoch 41/50\n",
            "16/15 [===============================] - ETA: -2s - loss: 0.1401 - categorical_accuracy: 0.9483 - precision_5: 0.9483INFO:tensorflow:Assets written to: model.41h5\\assets\n"
          ]
        },
        {
          "name": "stderr",
          "output_type": "stream",
          "text": [
            "INFO:tensorflow:Assets written to: model.41h5\\assets\n"
          ]
        },
        {
          "name": "stdout",
          "output_type": "stream",
          "text": [
            "15/15 [==============================] - 53s 4s/step - loss: 0.1401 - categorical_accuracy: 0.9483 - precision_5: 0.9483 - val_loss: 0.9918 - val_categorical_accuracy: 0.7656 - val_precision_5: 0.7656\n",
            "Epoch 42/50\n",
            "16/15 [===============================] - ETA: -2s - loss: 0.1773 - categorical_accuracy: 0.9318 - precision_5: 0.9318INFO:tensorflow:Assets written to: model.42h5\\assets\n"
          ]
        },
        {
          "name": "stderr",
          "output_type": "stream",
          "text": [
            "INFO:tensorflow:Assets written to: model.42h5\\assets\n"
          ]
        },
        {
          "name": "stdout",
          "output_type": "stream",
          "text": [
            "15/15 [==============================] - 53s 4s/step - loss: 0.1773 - categorical_accuracy: 0.9318 - precision_5: 0.9318 - val_loss: 0.5920 - val_categorical_accuracy: 0.8438 - val_precision_5: 0.8438\n",
            "Epoch 43/50\n",
            "16/15 [===============================] - ETA: -2s - loss: 0.1138 - categorical_accuracy: 0.9649 - precision_5: 0.9649INFO:tensorflow:Assets written to: model.43h5\\assets\n"
          ]
        },
        {
          "name": "stderr",
          "output_type": "stream",
          "text": [
            "INFO:tensorflow:Assets written to: model.43h5\\assets\n"
          ]
        },
        {
          "name": "stdout",
          "output_type": "stream",
          "text": [
            "15/15 [==============================] - 53s 4s/step - loss: 0.1138 - categorical_accuracy: 0.9649 - precision_5: 0.9649 - val_loss: 0.6214 - val_categorical_accuracy: 0.8750 - val_precision_5: 0.8750\n",
            "Epoch 44/50\n",
            "16/15 [===============================] - ETA: -2s - loss: 0.1003 - categorical_accuracy: 0.9607 - precision_5: 0.9607INFO:tensorflow:Assets written to: model.44h5\\assets\n"
          ]
        },
        {
          "name": "stderr",
          "output_type": "stream",
          "text": [
            "INFO:tensorflow:Assets written to: model.44h5\\assets\n"
          ]
        },
        {
          "name": "stdout",
          "output_type": "stream",
          "text": [
            "15/15 [==============================] - 53s 4s/step - loss: 0.1003 - categorical_accuracy: 0.9607 - precision_5: 0.9607 - val_loss: 0.6721 - val_categorical_accuracy: 0.8438 - val_precision_5: 0.8438\n",
            "Epoch 45/50\n",
            "16/15 [===============================] - ETA: -2s - loss: 0.0823 - categorical_accuracy: 0.9649 - precision_5: 0.9649INFO:tensorflow:Assets written to: model.45h5\\assets\n"
          ]
        },
        {
          "name": "stderr",
          "output_type": "stream",
          "text": [
            "INFO:tensorflow:Assets written to: model.45h5\\assets\n"
          ]
        },
        {
          "name": "stdout",
          "output_type": "stream",
          "text": [
            "15/15 [==============================] - 52s 4s/step - loss: 0.0823 - categorical_accuracy: 0.9649 - precision_5: 0.9649 - val_loss: 1.0599 - val_categorical_accuracy: 0.9062 - val_precision_5: 0.9062\n",
            "Epoch 46/50\n",
            "16/15 [===============================] - ETA: -2s - loss: 0.0539 - categorical_accuracy: 0.9835 - precision_5: 0.9835INFO:tensorflow:Assets written to: model.46h5\\assets\n"
          ]
        },
        {
          "name": "stderr",
          "output_type": "stream",
          "text": [
            "INFO:tensorflow:Assets written to: model.46h5\\assets\n"
          ]
        },
        {
          "name": "stdout",
          "output_type": "stream",
          "text": [
            "15/15 [==============================] - 53s 4s/step - loss: 0.0539 - categorical_accuracy: 0.9835 - precision_5: 0.9835 - val_loss: 0.8824 - val_categorical_accuracy: 0.8750 - val_precision_5: 0.8750\n",
            "Epoch 47/50\n",
            "16/15 [===============================] - ETA: -2s - loss: 0.0441 - categorical_accuracy: 0.9855 - precision_5: 0.9855INFO:tensorflow:Assets written to: model.47h5\\assets\n"
          ]
        },
        {
          "name": "stderr",
          "output_type": "stream",
          "text": [
            "INFO:tensorflow:Assets written to: model.47h5\\assets\n"
          ]
        },
        {
          "name": "stdout",
          "output_type": "stream",
          "text": [
            "15/15 [==============================] - 52s 3s/step - loss: 0.0441 - categorical_accuracy: 0.9855 - precision_5: 0.9855 - val_loss: 1.2623 - val_categorical_accuracy: 0.8750 - val_precision_5: 0.8750\n",
            "Epoch 48/50\n",
            "16/15 [===============================] - ETA: -2s - loss: 0.0929 - categorical_accuracy: 0.9690 - precision_5: 0.9690INFO:tensorflow:Assets written to: model.48h5\\assets\n"
          ]
        },
        {
          "name": "stderr",
          "output_type": "stream",
          "text": [
            "INFO:tensorflow:Assets written to: model.48h5\\assets\n"
          ]
        },
        {
          "name": "stdout",
          "output_type": "stream",
          "text": [
            "15/15 [==============================] - 53s 3s/step - loss: 0.0929 - categorical_accuracy: 0.9690 - precision_5: 0.9690 - val_loss: 0.3366 - val_categorical_accuracy: 0.9062 - val_precision_5: 0.9062\n",
            "Epoch 49/50\n",
            "16/15 [===============================] - ETA: -2s - loss: 0.0413 - categorical_accuracy: 0.9876 - precision_5: 0.9876INFO:tensorflow:Assets written to: model.49h5\\assets\n"
          ]
        },
        {
          "name": "stderr",
          "output_type": "stream",
          "text": [
            "INFO:tensorflow:Assets written to: model.49h5\\assets\n"
          ]
        },
        {
          "name": "stdout",
          "output_type": "stream",
          "text": [
            "15/15 [==============================] - 52s 3s/step - loss: 0.0413 - categorical_accuracy: 0.9876 - precision_5: 0.9876 - val_loss: 1.3526 - val_categorical_accuracy: 0.8125 - val_precision_5: 0.8125\n",
            "Epoch 50/50\n",
            "16/15 [===============================] - ETA: -2s - loss: 0.0748 - categorical_accuracy: 0.9669 - precision_5: 0.9669INFO:tensorflow:Assets written to: model.50h5\\assets\n"
          ]
        },
        {
          "name": "stderr",
          "output_type": "stream",
          "text": [
            "INFO:tensorflow:Assets written to: model.50h5\\assets\n"
          ]
        },
        {
          "name": "stdout",
          "output_type": "stream",
          "text": [
            "15/15 [==============================] - 52s 4s/step - loss: 0.0748 - categorical_accuracy: 0.9669 - precision_5: 0.9669 - val_loss: 0.4099 - val_categorical_accuracy: 0.8750 - val_precision_5: 0.8750\n",
            "INFO:tensorflow:Assets written to: model\\assets\n"
          ]
        },
        {
          "name": "stderr",
          "output_type": "stream",
          "text": [
            "INFO:tensorflow:Assets written to: model\\assets\n"
          ]
        }
      ],
      "source": [
        "model.fit(\n",
        "    X_train,\n",
        "    validation_data = X_tests,\n",
        "    steps_per_epoch = total_data / batch_size,\n",
        "    epochs = 50,\n",
        "    validation_steps = (total_data / batch_size) / 10, \n",
        "    callbacks = [\n",
        "        callbacks.ModelCheckpoint(\n",
        "            filepath = 'model.{epoch:02d}h5'\n",
        "        )\n",
        "    ]\n",
        ")\n",
        "\n",
        "model.save('model')\n"
      ]
    }
  ],
  "metadata": {
    "colab": {
      "authorship_tag": "ABX9TyPgEP4L6LqfoIl1CCO2me9L",
      "include_colab_link": true,
      "provenance": []
    },
    "kernelspec": {
      "display_name": "Python 3",
      "name": "python3"
    },
    "language_info": {
      "codemirror_mode": {
        "name": "ipython",
        "version": 3
      },
      "file_extension": ".py",
      "mimetype": "text/x-python",
      "name": "python",
      "nbconvert_exporter": "python",
      "pygments_lexer": "ipython3",
      "version": "3.11.4"
    }
  },
  "nbformat": 4,
  "nbformat_minor": 0
}
