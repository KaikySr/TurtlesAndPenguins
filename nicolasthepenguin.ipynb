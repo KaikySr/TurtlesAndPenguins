{
  "cells": [
    {
      "cell_type": "markdown",
      "metadata": {
        "colab_type": "text",
        "id": "view-in-github"
      },
      "source": [
        "<a href=\"https://colab.research.google.com/github/KaikySr/AulaPrograma-o1Senai/blob/master/nicolasatartaruga.ipynb\" target=\"_parent\"><img src=\"https://colab.research.google.com/assets/colab-badge.svg\" alt=\"Open In Colab\"/></a>"
      ]
    },
    {
      "cell_type": "code",
      "execution_count": null,
      "metadata": {
        "id": "VP6qo5fNwiwM"
      },
      "outputs": [
        {
          "ename": "",
          "evalue": "",
          "output_type": "error",
          "traceback": [
            "\u001b[1;31mRunning cells with 'c:\\Users\\disrct\\AppData\\Local\\Programs\\Python\\Python311\\python.exe' requires the ipykernel package.\n",
            "\u001b[1;31mRun the following command to install 'ipykernel' into the Python environment. \n",
            "\u001b[1;31mCommand: 'c:/Users/disrct/AppData/Local/Programs/Python/Python311/python.exe -m pip install ipykernel -U --user --force-reinstall'"
          ]
        }
      ],
      "source": [
        "%pip install tensorflow\n",
        "%pip install keras"
      ]
    },
    {
      "cell_type": "code",
      "execution_count": 37,
      "metadata": {
        "id": "K8mLJWHwwn2E"
      },
      "outputs": [],
      "source": [
        "from keras import models\n",
        "from keras import layers\n",
        "from keras import activations\n",
        "from keras import initializers\n",
        "from keras import regularizers\n",
        "from keras import optimizers\n",
        "from keras import losses\n",
        "from keras import metrics\n",
        "from keras import callbacks\n",
        "from keras.preprocessing import image"
      ]
    },
    {
      "cell_type": "code",
      "execution_count": 38,
      "metadata": {
        "id": "Vn_FN2Y-xJgw"
      },
      "outputs": [],
      "source": [
        "model = models.Sequential()\n",
        "\n",
        "model.add(layers.Conv2D(\n",
        "    32, (5, 5),\n",
        "    input_shape = (64, 64, 3),\n",
        "    activation = 'relu'\n",
        "))\n",
        "model.add(layers.MaxPooling2D(\n",
        "    pool_size = (2, 2)\n",
        "))"
      ]
    },
    {
      "cell_type": "code",
      "execution_count": 39,
      "metadata": {
        "id": "l_c1IryvzU-D"
      },
      "outputs": [],
      "source": [
        "model.add(layers.Conv2D(\n",
        "    16, (5, 5),\n",
        "    input_shape = (30, 30, 3),\n",
        "    activation = 'relu'\n",
        "))\n",
        "model.add(layers.MaxPooling2D(\n",
        "    pool_size = (2, 2)\n",
        "))"
      ]
    },
    {
      "cell_type": "code",
      "execution_count": 40,
      "metadata": {
        "id": "09lazt7K2nAk"
      },
      "outputs": [],
      "source": [
        "model.add(layers.Flatten())\n",
        "\n",
        "model.add(layers.Dense(256))\n",
        "\n",
        "model.add(layers.Dropout(0.2))\n",
        "model.add(layers.Activation(activations.softmax))"
      ]
    },
    {
      "cell_type": "code",
      "execution_count": 41,
      "metadata": {
        "id": "nca9sICGQZRB"
      },
      "outputs": [],
      "source": [
        "model.add(layers.Dense(64))\n",
        "model.add(layers.Activation(activations.relu))\n",
        "model.add(layers.BatchNormalization())\n",
        "\n",
        "\n",
        "model.add(layers.Dense(64))\n",
        "model.add(layers.Activation(activations.relu))\n",
        "\n",
        "model.add(layers.Dense(2))\n",
        "model.add(layers.Activation(activations.softmax))"
      ]
    },
    {
      "cell_type": "code",
      "execution_count": 42,
      "metadata": {
        "id": "ANu9Dwl4Q_Oo"
      },
      "outputs": [],
      "source": [
        "model.compile(\n",
        "    optimizer = optimizers.Adam(),\n",
        "    loss = losses.BinaryCrossentropy(),\n",
        "    metrics=[metrics.Accuracy(), metrics.Precision()]\n",
        ")"
      ]
    },
    {
      "cell_type": "code",
      "execution_count": 43,
      "metadata": {
        "id": "69rmvrnOTfNh"
      },
      "outputs": [],
      "source": [
        "dataGen = image.ImageDataGenerator(\n",
        "    rescale = 1.0/255,\n",
        "    shear_range = 0.2,\n",
        "    zoom_range = 0.2,\n",
        "    horizontal_flip = True,\n",
        "    vertical_flip = False,\n",
        "    validation_split = 0.2\n",
        ")"
      ]
    },
    {
      "cell_type": "code",
      "execution_count": 44,
      "metadata": {
        "id": "vqbuHxfHVWRI"
      },
      "outputs": [
        {
          "name": "stdout",
          "output_type": "stream",
          "text": [
            "Found 19995 images belonging to 2 classes.\n",
            "Found 4997 images belonging to 2 classes.\n"
          ]
        }
      ],
      "source": [
        "X_train = dataGen.flow_from_directory(\n",
        "    './Images',\n",
        "    target_size = (64, 64),\n",
        "    batch_size = 32,\n",
        "    class_mode = 'categorical',\n",
        "    subset = 'training'\n",
        ")\n",
        "\n",
        "X_tests = dataGen.flow_from_directory(\n",
        "    './Images',\n",
        "    target_size = (64, 64),\n",
        "    batch_size = 32,\n",
        "    class_mode = 'categorical',\n",
        "    subset = 'validation'\n",
        ")"
      ]
    },
    {
      "cell_type": "code",
      "execution_count": 45,
      "metadata": {},
      "outputs": [],
      "source": [
        "total_data = 602\n",
        "batch_size = 30"
      ]
    },
    {
      "cell_type": "code",
      "execution_count": 47,
      "metadata": {
        "id": "XAZ6pvbfWFMw"
      },
      "outputs": [
        {
          "name": "stdout",
          "output_type": "stream",
          "text": [
            "Epoch 1/50\n",
            "194/624 [========>.....................] - ETA: 25s - loss: 0.6838 - accuracy: 0.0000e+00 - precision_2: 0.5606"
          ]
        },
        {
          "name": "stderr",
          "output_type": "stream",
          "text": [
            "C:\\Users\\disrct\\AppData\\Roaming\\Python\\Python311\\site-packages\\PIL\\TiffImagePlugin.py:866: UserWarning: Truncated File Read\n",
            "  warnings.warn(str(msg))\n"
          ]
        },
        {
          "name": "stdout",
          "output_type": "stream",
          "text": [
            "625/624 [==============================] - ETA: 0s - loss: 0.6427 - accuracy: 0.0000e+00 - precision_2: 0.6211INFO:tensorflow:Assets written to: model.01h5\\assets\n"
          ]
        },
        {
          "name": "stderr",
          "output_type": "stream",
          "text": [
            "INFO:tensorflow:Assets written to: model.01h5\\assets\n"
          ]
        },
        {
          "name": "stdout",
          "output_type": "stream",
          "text": [
            "624/624 [==============================] - 41s 65ms/step - loss: 0.6427 - accuracy: 0.0000e+00 - precision_2: 0.6211 - val_loss: 0.6472 - val_accuracy: 0.0000e+00 - val_precision_2: 0.6141\n",
            "Epoch 2/50\n",
            " 65/624 [==>...........................] - ETA: 32s - loss: 0.5945 - accuracy: 0.0000e+00 - precision_2: 0.6880"
          ]
        },
        {
          "name": "stderr",
          "output_type": "stream",
          "text": [
            "C:\\Users\\disrct\\AppData\\Roaming\\Python\\Python311\\site-packages\\PIL\\TiffImagePlugin.py:866: UserWarning: Truncated File Read\n",
            "  warnings.warn(str(msg))\n"
          ]
        },
        {
          "name": "stdout",
          "output_type": "stream",
          "text": [
            "625/624 [==============================] - ETA: 0s - loss: 0.5682 - accuracy: 0.0000e+00 - precision_2: 0.7030INFO:tensorflow:Assets written to: model.02h5\\assets\n"
          ]
        },
        {
          "name": "stderr",
          "output_type": "stream",
          "text": [
            "INFO:tensorflow:Assets written to: model.02h5\\assets\n"
          ]
        },
        {
          "name": "stdout",
          "output_type": "stream",
          "text": [
            "624/624 [==============================] - 40s 64ms/step - loss: 0.5682 - accuracy: 0.0000e+00 - precision_2: 0.7030 - val_loss: 0.5393 - val_accuracy: 0.0000e+00 - val_precision_2: 0.7297\n",
            "Epoch 3/50\n",
            "346/624 [===============>..............] - ETA: 16s - loss: 0.5290 - accuracy: 0.0000e+00 - precision_2: 0.7331"
          ]
        },
        {
          "name": "stderr",
          "output_type": "stream",
          "text": [
            "C:\\Users\\disrct\\AppData\\Roaming\\Python\\Python311\\site-packages\\PIL\\TiffImagePlugin.py:866: UserWarning: Truncated File Read\n",
            "  warnings.warn(str(msg))\n"
          ]
        },
        {
          "name": "stdout",
          "output_type": "stream",
          "text": [
            "625/624 [==============================] - ETA: 0s - loss: 0.5193 - accuracy: 0.0000e+00 - precision_2: 0.7423INFO:tensorflow:Assets written to: model.03h5\\assets\n"
          ]
        },
        {
          "name": "stderr",
          "output_type": "stream",
          "text": [
            "INFO:tensorflow:Assets written to: model.03h5\\assets\n"
          ]
        },
        {
          "name": "stdout",
          "output_type": "stream",
          "text": [
            "624/624 [==============================] - 40s 63ms/step - loss: 0.5193 - accuracy: 0.0000e+00 - precision_2: 0.7423 - val_loss: 0.5170 - val_accuracy: 0.0000e+00 - val_precision_2: 0.7440\n",
            "Epoch 4/50\n",
            "458/624 [====================>.........] - ETA: 9s - loss: 0.4931 - accuracy: 0.0000e+00 - precision_2: 0.7614"
          ]
        },
        {
          "name": "stderr",
          "output_type": "stream",
          "text": [
            "C:\\Users\\disrct\\AppData\\Roaming\\Python\\Python311\\site-packages\\PIL\\TiffImagePlugin.py:866: UserWarning: Truncated File Read\n",
            "  warnings.warn(str(msg))\n"
          ]
        },
        {
          "name": "stdout",
          "output_type": "stream",
          "text": [
            "625/624 [==============================] - ETA: 0s - loss: 0.4915 - accuracy: 0.0000e+00 - precision_2: 0.7631INFO:tensorflow:Assets written to: model.04h5\\assets\n"
          ]
        },
        {
          "name": "stderr",
          "output_type": "stream",
          "text": [
            "INFO:tensorflow:Assets written to: model.04h5\\assets\n"
          ]
        },
        {
          "name": "stdout",
          "output_type": "stream",
          "text": [
            "624/624 [==============================] - 40s 63ms/step - loss: 0.4915 - accuracy: 0.0000e+00 - precision_2: 0.7631 - val_loss: 0.5508 - val_accuracy: 0.0000e+00 - val_precision_2: 0.7148\n",
            "Epoch 5/50\n",
            "485/624 [======================>.......] - ETA: 8s - loss: 0.4688 - accuracy: 0.0000e+00 - precision_2: 0.7778"
          ]
        },
        {
          "name": "stderr",
          "output_type": "stream",
          "text": [
            "C:\\Users\\disrct\\AppData\\Roaming\\Python\\Python311\\site-packages\\PIL\\TiffImagePlugin.py:866: UserWarning: Truncated File Read\n",
            "  warnings.warn(str(msg))\n"
          ]
        },
        {
          "name": "stdout",
          "output_type": "stream",
          "text": [
            "625/624 [==============================] - ETA: 0s - loss: 0.4685 - accuracy: 0.0000e+00 - precision_2: 0.7775INFO:tensorflow:Assets written to: model.05h5\\assets\n"
          ]
        },
        {
          "name": "stderr",
          "output_type": "stream",
          "text": [
            "INFO:tensorflow:Assets written to: model.05h5\\assets\n"
          ]
        },
        {
          "name": "stdout",
          "output_type": "stream",
          "text": [
            "624/624 [==============================] - 40s 64ms/step - loss: 0.4685 - accuracy: 0.0000e+00 - precision_2: 0.7775 - val_loss: 0.4770 - val_accuracy: 0.0000e+00 - val_precision_2: 0.7654\n",
            "Epoch 6/50\n",
            " 52/624 [=>............................] - ETA: 33s - loss: 0.4599 - accuracy: 0.0000e+00 - precision_2: 0.7698"
          ]
        },
        {
          "name": "stderr",
          "output_type": "stream",
          "text": [
            "C:\\Users\\disrct\\AppData\\Roaming\\Python\\Python311\\site-packages\\PIL\\TiffImagePlugin.py:866: UserWarning: Truncated File Read\n",
            "  warnings.warn(str(msg))\n"
          ]
        },
        {
          "name": "stdout",
          "output_type": "stream",
          "text": [
            "625/624 [==============================] - ETA: 0s - loss: 0.4531 - accuracy: 0.0000e+00 - precision_2: 0.7839INFO:tensorflow:Assets written to: model.06h5\\assets\n"
          ]
        },
        {
          "name": "stderr",
          "output_type": "stream",
          "text": [
            "INFO:tensorflow:Assets written to: model.06h5\\assets\n"
          ]
        },
        {
          "name": "stdout",
          "output_type": "stream",
          "text": [
            "624/624 [==============================] - 39s 63ms/step - loss: 0.4531 - accuracy: 0.0000e+00 - precision_2: 0.7839 - val_loss: 0.4641 - val_accuracy: 0.0000e+00 - val_precision_2: 0.7798\n",
            "Epoch 7/50\n",
            "197/624 [========>.....................] - ETA: 24s - loss: 0.4317 - accuracy: 0.0000e+00 - precision_2: 0.8004"
          ]
        },
        {
          "name": "stderr",
          "output_type": "stream",
          "text": [
            "C:\\Users\\disrct\\AppData\\Roaming\\Python\\Python311\\site-packages\\PIL\\TiffImagePlugin.py:866: UserWarning: Truncated File Read\n",
            "  warnings.warn(str(msg))\n"
          ]
        },
        {
          "name": "stdout",
          "output_type": "stream",
          "text": [
            "625/624 [==============================] - ETA: 0s - loss: 0.4346 - accuracy: 0.0000e+00 - precision_2: 0.7971INFO:tensorflow:Assets written to: model.07h5\\assets\n"
          ]
        },
        {
          "name": "stderr",
          "output_type": "stream",
          "text": [
            "INFO:tensorflow:Assets written to: model.07h5\\assets\n"
          ]
        },
        {
          "name": "stdout",
          "output_type": "stream",
          "text": [
            "624/624 [==============================] - 39s 62ms/step - loss: 0.4346 - accuracy: 0.0000e+00 - precision_2: 0.7971 - val_loss: 0.5369 - val_accuracy: 0.0000e+00 - val_precision_2: 0.7297\n",
            "Epoch 8/50\n",
            "210/624 [=========>....................] - ETA: 23s - loss: 0.4288 - accuracy: 0.0000e+00 - precision_2: 0.8067"
          ]
        },
        {
          "name": "stderr",
          "output_type": "stream",
          "text": [
            "C:\\Users\\disrct\\AppData\\Roaming\\Python\\Python311\\site-packages\\PIL\\TiffImagePlugin.py:866: UserWarning: Truncated File Read\n",
            "  warnings.warn(str(msg))\n"
          ]
        },
        {
          "name": "stdout",
          "output_type": "stream",
          "text": [
            "624/624 [============================>.] - ETA: 0s - loss: 0.4268 - accuracy: 0.0000e+00 - precision_2: 0.8031INFO:tensorflow:Assets written to: model.08h5\\assets\n"
          ]
        },
        {
          "name": "stderr",
          "output_type": "stream",
          "text": [
            "INFO:tensorflow:Assets written to: model.08h5\\assets\n"
          ]
        },
        {
          "name": "stdout",
          "output_type": "stream",
          "text": [
            "624/624 [==============================] - 38s 61ms/step - loss: 0.4268 - accuracy: 0.0000e+00 - precision_2: 0.8031 - val_loss: 0.6557 - val_accuracy: 0.0000e+00 - val_precision_2: 0.6885\n",
            "Epoch 9/50\n",
            "591/624 [===========================>..] - ETA: 1s - loss: 0.4124 - accuracy: 0.0000e+00 - precision_2: 0.8100"
          ]
        },
        {
          "name": "stderr",
          "output_type": "stream",
          "text": [
            "C:\\Users\\disrct\\AppData\\Roaming\\Python\\Python311\\site-packages\\PIL\\TiffImagePlugin.py:866: UserWarning: Truncated File Read\n",
            "  warnings.warn(str(msg))\n"
          ]
        },
        {
          "name": "stdout",
          "output_type": "stream",
          "text": [
            "625/624 [==============================] - ETA: 0s - loss: 0.4120 - accuracy: 0.0000e+00 - precision_2: 0.8105INFO:tensorflow:Assets written to: model.09h5\\assets\n"
          ]
        },
        {
          "name": "stderr",
          "output_type": "stream",
          "text": [
            "INFO:tensorflow:Assets written to: model.09h5\\assets\n"
          ]
        },
        {
          "name": "stdout",
          "output_type": "stream",
          "text": [
            "624/624 [==============================] - 40s 64ms/step - loss: 0.4120 - accuracy: 0.0000e+00 - precision_2: 0.8105 - val_loss: 0.4474 - val_accuracy: 0.0000e+00 - val_precision_2: 0.7922\n",
            "Epoch 10/50\n",
            "387/624 [=================>............] - ETA: 13s - loss: 0.3947 - accuracy: 0.0000e+00 - precision_2: 0.8246"
          ]
        },
        {
          "name": "stderr",
          "output_type": "stream",
          "text": [
            "C:\\Users\\disrct\\AppData\\Roaming\\Python\\Python311\\site-packages\\PIL\\TiffImagePlugin.py:866: UserWarning: Truncated File Read\n",
            "  warnings.warn(str(msg))\n"
          ]
        },
        {
          "name": "stdout",
          "output_type": "stream",
          "text": [
            "625/624 [==============================] - ETA: 0s - loss: 0.4002 - accuracy: 0.0000e+00 - precision_2: 0.8208INFO:tensorflow:Assets written to: model.10h5\\assets\n"
          ]
        },
        {
          "name": "stderr",
          "output_type": "stream",
          "text": [
            "INFO:tensorflow:Assets written to: model.10h5\\assets\n"
          ]
        },
        {
          "name": "stdout",
          "output_type": "stream",
          "text": [
            "624/624 [==============================] - 40s 63ms/step - loss: 0.4002 - accuracy: 0.0000e+00 - precision_2: 0.8208 - val_loss: 0.4216 - val_accuracy: 0.0000e+00 - val_precision_2: 0.8021\n",
            "Epoch 11/50\n",
            "505/624 [=======================>......] - ETA: 6s - loss: 0.3866 - accuracy: 0.0000e+00 - precision_2: 0.8275"
          ]
        },
        {
          "name": "stderr",
          "output_type": "stream",
          "text": [
            "C:\\Users\\disrct\\AppData\\Roaming\\Python\\Python311\\site-packages\\PIL\\TiffImagePlugin.py:866: UserWarning: Truncated File Read\n",
            "  warnings.warn(str(msg))\n"
          ]
        },
        {
          "name": "stdout",
          "output_type": "stream",
          "text": [
            "625/624 [==============================] - ETA: 0s - loss: 0.3882 - accuracy: 0.0000e+00 - precision_2: 0.8268INFO:tensorflow:Assets written to: model.11h5\\assets\n"
          ]
        },
        {
          "name": "stderr",
          "output_type": "stream",
          "text": [
            "INFO:tensorflow:Assets written to: model.11h5\\assets\n"
          ]
        },
        {
          "name": "stdout",
          "output_type": "stream",
          "text": [
            "624/624 [==============================] - 39s 62ms/step - loss: 0.3882 - accuracy: 0.0000e+00 - precision_2: 0.8268 - val_loss: 0.4125 - val_accuracy: 0.0000e+00 - val_precision_2: 0.8085\n",
            "Epoch 12/50\n",
            "149/624 [======>.......................] - ETA: 26s - loss: 0.3558 - accuracy: 0.0000e+00 - precision_2: 0.8387"
          ]
        },
        {
          "name": "stderr",
          "output_type": "stream",
          "text": [
            "C:\\Users\\disrct\\AppData\\Roaming\\Python\\Python311\\site-packages\\PIL\\TiffImagePlugin.py:866: UserWarning: Truncated File Read\n",
            "  warnings.warn(str(msg))\n"
          ]
        },
        {
          "name": "stdout",
          "output_type": "stream",
          "text": [
            "625/624 [==============================] - ETA: 0s - loss: 0.3758 - accuracy: 0.0000e+00 - precision_2: 0.8307INFO:tensorflow:Assets written to: model.12h5\\assets\n"
          ]
        },
        {
          "name": "stderr",
          "output_type": "stream",
          "text": [
            "INFO:tensorflow:Assets written to: model.12h5\\assets\n"
          ]
        },
        {
          "name": "stdout",
          "output_type": "stream",
          "text": [
            "624/624 [==============================] - 38s 61ms/step - loss: 0.3758 - accuracy: 0.0000e+00 - precision_2: 0.8307 - val_loss: 0.4331 - val_accuracy: 0.0000e+00 - val_precision_2: 0.8036\n",
            "Epoch 13/50\n",
            "246/624 [==========>...................] - ETA: 21s - loss: 0.3664 - accuracy: 6.3516e-05 - precision_2: 0.8333"
          ]
        },
        {
          "name": "stderr",
          "output_type": "stream",
          "text": [
            "C:\\Users\\disrct\\AppData\\Roaming\\Python\\Python311\\site-packages\\PIL\\TiffImagePlugin.py:866: UserWarning: Truncated File Read\n",
            "  warnings.warn(str(msg))\n"
          ]
        },
        {
          "name": "stdout",
          "output_type": "stream",
          "text": [
            "625/624 [==============================] - ETA: 0s - loss: 0.3676 - accuracy: 7.5019e-05 - precision_2: 0.8362INFO:tensorflow:Assets written to: model.13h5\\assets\n"
          ]
        },
        {
          "name": "stderr",
          "output_type": "stream",
          "text": [
            "INFO:tensorflow:Assets written to: model.13h5\\assets\n"
          ]
        },
        {
          "name": "stdout",
          "output_type": "stream",
          "text": [
            "624/624 [==============================] - 39s 62ms/step - loss: 0.3676 - accuracy: 7.5019e-05 - precision_2: 0.8362 - val_loss: 0.4431 - val_accuracy: 0.0000e+00 - val_precision_2: 0.7902\n",
            "Epoch 14/50\n",
            "209/624 [=========>....................] - ETA: 23s - loss: 0.3556 - accuracy: 0.0000e+00 - precision_2: 0.8452"
          ]
        },
        {
          "name": "stderr",
          "output_type": "stream",
          "text": [
            "C:\\Users\\disrct\\AppData\\Roaming\\Python\\Python311\\site-packages\\PIL\\TiffImagePlugin.py:866: UserWarning: Truncated File Read\n",
            "  warnings.warn(str(msg))\n"
          ]
        },
        {
          "name": "stdout",
          "output_type": "stream",
          "text": [
            "625/624 [==============================] - ETA: 0s - loss: 0.3520 - accuracy: 0.0000e+00 - precision_2: 0.8467INFO:tensorflow:Assets written to: model.14h5\\assets\n"
          ]
        },
        {
          "name": "stderr",
          "output_type": "stream",
          "text": [
            "INFO:tensorflow:Assets written to: model.14h5\\assets\n"
          ]
        },
        {
          "name": "stdout",
          "output_type": "stream",
          "text": [
            "624/624 [==============================] - 39s 62ms/step - loss: 0.3520 - accuracy: 0.0000e+00 - precision_2: 0.8467 - val_loss: 0.4371 - val_accuracy: 0.0000e+00 - val_precision_2: 0.7937\n",
            "Epoch 15/50\n",
            "323/624 [==============>...............] - ETA: 17s - loss: 0.3364 - accuracy: 0.0000e+00 - precision_2: 0.8528"
          ]
        },
        {
          "name": "stderr",
          "output_type": "stream",
          "text": [
            "C:\\Users\\disrct\\AppData\\Roaming\\Python\\Python311\\site-packages\\PIL\\TiffImagePlugin.py:866: UserWarning: Truncated File Read\n",
            "  warnings.warn(str(msg))\n"
          ]
        },
        {
          "name": "stdout",
          "output_type": "stream",
          "text": [
            "625/624 [==============================] - ETA: 0s - loss: 0.3423 - accuracy: 2.5006e-05 - precision_2: 0.8501INFO:tensorflow:Assets written to: model.15h5\\assets\n"
          ]
        },
        {
          "name": "stderr",
          "output_type": "stream",
          "text": [
            "INFO:tensorflow:Assets written to: model.15h5\\assets\n"
          ]
        },
        {
          "name": "stdout",
          "output_type": "stream",
          "text": [
            "624/624 [==============================] - 40s 63ms/step - loss: 0.3423 - accuracy: 2.5006e-05 - precision_2: 0.8501 - val_loss: 0.5440 - val_accuracy: 0.0000e+00 - val_precision_2: 0.7470\n",
            "Epoch 16/50\n",
            "327/624 [==============>...............] - ETA: 17s - loss: 0.3293 - accuracy: 0.0000e+00 - precision_2: 0.8564"
          ]
        },
        {
          "name": "stderr",
          "output_type": "stream",
          "text": [
            "C:\\Users\\disrct\\AppData\\Roaming\\Python\\Python311\\site-packages\\PIL\\TiffImagePlugin.py:866: UserWarning: Truncated File Read\n",
            "  warnings.warn(str(msg))\n"
          ]
        },
        {
          "name": "stdout",
          "output_type": "stream",
          "text": [
            "625/624 [==============================] - ETA: 0s - loss: 0.3316 - accuracy: 0.0000e+00 - precision_2: 0.8562INFO:tensorflow:Assets written to: model.16h5\\assets\n"
          ]
        },
        {
          "name": "stderr",
          "output_type": "stream",
          "text": [
            "INFO:tensorflow:Assets written to: model.16h5\\assets\n"
          ]
        },
        {
          "name": "stdout",
          "output_type": "stream",
          "text": [
            "624/624 [==============================] - 40s 64ms/step - loss: 0.3316 - accuracy: 0.0000e+00 - precision_2: 0.8562 - val_loss: 0.3940 - val_accuracy: 0.0000e+00 - val_precision_2: 0.8214\n",
            "Epoch 17/50\n",
            "134/624 [=====>........................] - ETA: 29s - loss: 0.3123 - accuracy: 0.0000e+00 - precision_2: 0.8667"
          ]
        },
        {
          "name": "stderr",
          "output_type": "stream",
          "text": [
            "C:\\Users\\disrct\\AppData\\Roaming\\Python\\Python311\\site-packages\\PIL\\TiffImagePlugin.py:866: UserWarning: Truncated File Read\n",
            "  warnings.warn(str(msg))\n"
          ]
        },
        {
          "name": "stdout",
          "output_type": "stream",
          "text": [
            "625/624 [==============================] - ETA: 0s - loss: 0.3228 - accuracy: 5.0013e-05 - precision_2: 0.8605INFO:tensorflow:Assets written to: model.17h5\\assets\n"
          ]
        },
        {
          "name": "stderr",
          "output_type": "stream",
          "text": [
            "INFO:tensorflow:Assets written to: model.17h5\\assets\n"
          ]
        },
        {
          "name": "stdout",
          "output_type": "stream",
          "text": [
            "624/624 [==============================] - 40s 64ms/step - loss: 0.3228 - accuracy: 5.0013e-05 - precision_2: 0.8605 - val_loss: 0.4040 - val_accuracy: 0.0000e+00 - val_precision_2: 0.8244\n",
            "Epoch 18/50\n",
            "474/624 [=====================>........] - ETA: 8s - loss: 0.3178 - accuracy: 0.0000e+00 - precision_2: 0.8641"
          ]
        },
        {
          "name": "stderr",
          "output_type": "stream",
          "text": [
            "C:\\Users\\disrct\\AppData\\Roaming\\Python\\Python311\\site-packages\\PIL\\TiffImagePlugin.py:866: UserWarning: Truncated File Read\n",
            "  warnings.warn(str(msg))\n"
          ]
        },
        {
          "name": "stdout",
          "output_type": "stream",
          "text": [
            "625/624 [==============================] - ETA: 0s - loss: 0.3153 - accuracy: 0.0000e+00 - precision_2: 0.8658INFO:tensorflow:Assets written to: model.18h5\\assets\n"
          ]
        },
        {
          "name": "stderr",
          "output_type": "stream",
          "text": [
            "INFO:tensorflow:Assets written to: model.18h5\\assets\n"
          ]
        },
        {
          "name": "stdout",
          "output_type": "stream",
          "text": [
            "624/624 [==============================] - 38s 61ms/step - loss: 0.3153 - accuracy: 0.0000e+00 - precision_2: 0.8658 - val_loss: 0.4187 - val_accuracy: 0.0000e+00 - val_precision_2: 0.8194\n",
            "Epoch 19/50\n",
            "393/624 [=================>............] - ETA: 13s - loss: 0.2989 - accuracy: 3.5797e-04 - precision_2: 0.8751"
          ]
        },
        {
          "name": "stderr",
          "output_type": "stream",
          "text": [
            "C:\\Users\\disrct\\AppData\\Roaming\\Python\\Python311\\site-packages\\PIL\\TiffImagePlugin.py:866: UserWarning: Truncated File Read\n",
            "  warnings.warn(str(msg))\n"
          ]
        },
        {
          "name": "stdout",
          "output_type": "stream",
          "text": [
            "625/624 [==============================] - ETA: 0s - loss: 0.3022 - accuracy: 2.2506e-04 - precision_2: 0.8728INFO:tensorflow:Assets written to: model.19h5\\assets\n"
          ]
        },
        {
          "name": "stderr",
          "output_type": "stream",
          "text": [
            "INFO:tensorflow:Assets written to: model.19h5\\assets\n"
          ]
        },
        {
          "name": "stdout",
          "output_type": "stream",
          "text": [
            "624/624 [==============================] - 39s 62ms/step - loss: 0.3022 - accuracy: 2.2506e-04 - precision_2: 0.8728 - val_loss: 0.4089 - val_accuracy: 0.0000e+00 - val_precision_2: 0.8214\n",
            "Epoch 20/50\n",
            "493/624 [======================>.......] - ETA: 7s - loss: 0.2973 - accuracy: 2.5363e-04 - precision_2: 0.8738"
          ]
        },
        {
          "name": "stderr",
          "output_type": "stream",
          "text": [
            "C:\\Users\\disrct\\AppData\\Roaming\\Python\\Python311\\site-packages\\PIL\\TiffImagePlugin.py:866: UserWarning: Truncated File Read\n",
            "  warnings.warn(str(msg))\n"
          ]
        },
        {
          "name": "stdout",
          "output_type": "stream",
          "text": [
            "624/624 [============================>.] - ETA: 0s - loss: 0.2927 - accuracy: 2.0037e-04 - precision_2: 0.8748INFO:tensorflow:Assets written to: model.20h5\\assets\n"
          ]
        },
        {
          "name": "stderr",
          "output_type": "stream",
          "text": [
            "INFO:tensorflow:Assets written to: model.20h5\\assets\n"
          ]
        },
        {
          "name": "stdout",
          "output_type": "stream",
          "text": [
            "624/624 [==============================] - 38s 61ms/step - loss: 0.2926 - accuracy: 2.0005e-04 - precision_2: 0.8748 - val_loss: 0.4224 - val_accuracy: 0.0000e+00 - val_precision_2: 0.8165\n",
            "Epoch 21/50\n",
            "100/624 [===>..........................] - ETA: 29s - loss: 0.2723 - accuracy: 1.5625e-04 - precision_2: 0.8900"
          ]
        },
        {
          "name": "stderr",
          "output_type": "stream",
          "text": [
            "C:\\Users\\disrct\\AppData\\Roaming\\Python\\Python311\\site-packages\\PIL\\TiffImagePlugin.py:866: UserWarning: Truncated File Read\n",
            "  warnings.warn(str(msg))\n"
          ]
        },
        {
          "name": "stdout",
          "output_type": "stream",
          "text": [
            "624/624 [============================>.] - ETA: 0s - loss: 0.2886 - accuracy: 2.0037e-04 - precision_2: 0.8784INFO:tensorflow:Assets written to: model.21h5\\assets\n"
          ]
        },
        {
          "name": "stderr",
          "output_type": "stream",
          "text": [
            "INFO:tensorflow:Assets written to: model.21h5\\assets\n"
          ]
        },
        {
          "name": "stdout",
          "output_type": "stream",
          "text": [
            "624/624 [==============================] - 39s 62ms/step - loss: 0.2887 - accuracy: 2.0005e-04 - precision_2: 0.8784 - val_loss: 0.4248 - val_accuracy: 0.0000e+00 - val_precision_2: 0.7956\n",
            "Epoch 22/50\n",
            "355/624 [================>.............] - ETA: 15s - loss: 0.2665 - accuracy: 3.5227e-04 - precision_2: 0.8900"
          ]
        },
        {
          "name": "stderr",
          "output_type": "stream",
          "text": [
            "C:\\Users\\disrct\\AppData\\Roaming\\Python\\Python311\\site-packages\\PIL\\TiffImagePlugin.py:866: UserWarning: Truncated File Read\n",
            "  warnings.warn(str(msg))\n"
          ]
        },
        {
          "name": "stdout",
          "output_type": "stream",
          "text": [
            "625/624 [==============================] - ETA: 0s - loss: 0.2760 - accuracy: 2.0005e-04 - precision_2: 0.8836INFO:tensorflow:Assets written to: model.22h5\\assets\n"
          ]
        },
        {
          "name": "stderr",
          "output_type": "stream",
          "text": [
            "INFO:tensorflow:Assets written to: model.22h5\\assets\n"
          ]
        },
        {
          "name": "stdout",
          "output_type": "stream",
          "text": [
            "624/624 [==============================] - 38s 62ms/step - loss: 0.2760 - accuracy: 2.0005e-04 - precision_2: 0.8836 - val_loss: 0.4246 - val_accuracy: 9.9206e-04 - val_precision_2: 0.8150\n",
            "Epoch 23/50\n",
            "260/624 [===========>..................] - ETA: 20s - loss: 0.2730 - accuracy: 6.0132e-05 - precision_2: 0.8862"
          ]
        },
        {
          "name": "stderr",
          "output_type": "stream",
          "text": [
            "C:\\Users\\disrct\\AppData\\Roaming\\Python\\Python311\\site-packages\\PIL\\TiffImagePlugin.py:866: UserWarning: Truncated File Read\n",
            "  warnings.warn(str(msg))\n"
          ]
        },
        {
          "name": "stdout",
          "output_type": "stream",
          "text": [
            "625/624 [==============================] - ETA: 0s - loss: 0.2706 - accuracy: 5.0013e-05 - precision_2: 0.8880INFO:tensorflow:Assets written to: model.23h5\\assets\n"
          ]
        },
        {
          "name": "stderr",
          "output_type": "stream",
          "text": [
            "INFO:tensorflow:Assets written to: model.23h5\\assets\n"
          ]
        },
        {
          "name": "stdout",
          "output_type": "stream",
          "text": [
            "624/624 [==============================] - 39s 62ms/step - loss: 0.2706 - accuracy: 5.0013e-05 - precision_2: 0.8880 - val_loss: 0.4415 - val_accuracy: 2.4802e-04 - val_precision_2: 0.8070\n",
            "Epoch 24/50\n",
            "297/624 [=============>................] - ETA: 18s - loss: 0.2574 - accuracy: 1.5783e-04 - precision_2: 0.8959"
          ]
        },
        {
          "name": "stderr",
          "output_type": "stream",
          "text": [
            "C:\\Users\\disrct\\AppData\\Roaming\\Python\\Python311\\site-packages\\PIL\\TiffImagePlugin.py:866: UserWarning: Truncated File Read\n",
            "  warnings.warn(str(msg))\n"
          ]
        },
        {
          "name": "stdout",
          "output_type": "stream",
          "text": [
            "624/624 [============================>.] - ETA: 0s - loss: 0.2684 - accuracy: 1.5028e-04 - precision_2: 0.8912INFO:tensorflow:Assets written to: model.24h5\\assets\n"
          ]
        },
        {
          "name": "stderr",
          "output_type": "stream",
          "text": [
            "INFO:tensorflow:Assets written to: model.24h5\\assets\n"
          ]
        },
        {
          "name": "stdout",
          "output_type": "stream",
          "text": [
            "624/624 [==============================] - 39s 62ms/step - loss: 0.2683 - accuracy: 1.5004e-04 - precision_2: 0.8913 - val_loss: 0.4434 - val_accuracy: 0.0000e+00 - val_precision_2: 0.8165\n",
            "Epoch 25/50\n",
            "345/624 [===============>..............] - ETA: 15s - loss: 0.2554 - accuracy: 0.0000e+00 - precision_2: 0.8947"
          ]
        },
        {
          "name": "stderr",
          "output_type": "stream",
          "text": [
            "C:\\Users\\disrct\\AppData\\Roaming\\Python\\Python311\\site-packages\\PIL\\TiffImagePlugin.py:866: UserWarning: Truncated File Read\n",
            "  warnings.warn(str(msg))\n"
          ]
        },
        {
          "name": "stdout",
          "output_type": "stream",
          "text": [
            "625/624 [==============================] - ETA: 0s - loss: 0.2522 - accuracy: 1.5004e-04 - precision_2: 0.8969INFO:tensorflow:Assets written to: model.25h5\\assets\n"
          ]
        },
        {
          "name": "stderr",
          "output_type": "stream",
          "text": [
            "INFO:tensorflow:Assets written to: model.25h5\\assets\n"
          ]
        },
        {
          "name": "stdout",
          "output_type": "stream",
          "text": [
            "624/624 [==============================] - 39s 62ms/step - loss: 0.2522 - accuracy: 1.5004e-04 - precision_2: 0.8969 - val_loss: 0.4391 - val_accuracy: 0.0000e+00 - val_precision_2: 0.8056\n",
            "Epoch 26/50\n",
            "434/624 [===================>..........] - ETA: 10s - loss: 0.2478 - accuracy: 7.2005e-04 - precision_2: 0.8998"
          ]
        },
        {
          "name": "stderr",
          "output_type": "stream",
          "text": [
            "C:\\Users\\disrct\\AppData\\Roaming\\Python\\Python311\\site-packages\\PIL\\TiffImagePlugin.py:866: UserWarning: Truncated File Read\n",
            "  warnings.warn(str(msg))\n"
          ]
        },
        {
          "name": "stdout",
          "output_type": "stream",
          "text": [
            "625/624 [==============================] - ETA: 0s - loss: 0.2493 - accuracy: 5.7514e-04 - precision_2: 0.8992INFO:tensorflow:Assets written to: model.26h5\\assets\n"
          ]
        },
        {
          "name": "stderr",
          "output_type": "stream",
          "text": [
            "INFO:tensorflow:Assets written to: model.26h5\\assets\n"
          ]
        },
        {
          "name": "stdout",
          "output_type": "stream",
          "text": [
            "624/624 [==============================] - 39s 62ms/step - loss: 0.2493 - accuracy: 5.7514e-04 - precision_2: 0.8992 - val_loss: 0.4580 - val_accuracy: 0.0000e+00 - val_precision_2: 0.8026\n",
            "Epoch 27/50\n",
            "265/624 [===========>..................] - ETA: 20s - loss: 0.2274 - accuracy: 5.8962e-05 - precision_2: 0.9108"
          ]
        },
        {
          "name": "stderr",
          "output_type": "stream",
          "text": [
            "C:\\Users\\disrct\\AppData\\Roaming\\Python\\Python311\\site-packages\\PIL\\TiffImagePlugin.py:866: UserWarning: Truncated File Read\n",
            "  warnings.warn(str(msg))\n"
          ]
        },
        {
          "name": "stdout",
          "output_type": "stream",
          "text": [
            "625/624 [==============================] - ETA: 0s - loss: 0.2349 - accuracy: 1.2503e-04 - precision_2: 0.9068INFO:tensorflow:Assets written to: model.27h5\\assets\n"
          ]
        },
        {
          "name": "stderr",
          "output_type": "stream",
          "text": [
            "INFO:tensorflow:Assets written to: model.27h5\\assets\n"
          ]
        },
        {
          "name": "stdout",
          "output_type": "stream",
          "text": [
            "624/624 [==============================] - 38s 62ms/step - loss: 0.2349 - accuracy: 1.2503e-04 - precision_2: 0.9068 - val_loss: 0.4896 - val_accuracy: 2.4802e-04 - val_precision_2: 0.7966\n",
            "Epoch 28/50\n",
            "204/624 [========>.....................] - ETA: 23s - loss: 0.2370 - accuracy: 3.8297e-04 - precision_2: 0.9032"
          ]
        },
        {
          "name": "stderr",
          "output_type": "stream",
          "text": [
            "C:\\Users\\disrct\\AppData\\Roaming\\Python\\Python311\\site-packages\\PIL\\TiffImagePlugin.py:866: UserWarning: Truncated File Read\n",
            "  warnings.warn(str(msg))\n"
          ]
        },
        {
          "name": "stdout",
          "output_type": "stream",
          "text": [
            "625/624 [==============================] - ETA: 0s - loss: 0.2412 - accuracy: 2.0005e-04 - precision_2: 0.9031INFO:tensorflow:Assets written to: model.28h5\\assets\n"
          ]
        },
        {
          "name": "stderr",
          "output_type": "stream",
          "text": [
            "INFO:tensorflow:Assets written to: model.28h5\\assets\n"
          ]
        },
        {
          "name": "stdout",
          "output_type": "stream",
          "text": [
            "624/624 [==============================] - 38s 61ms/step - loss: 0.2412 - accuracy: 2.0005e-04 - precision_2: 0.9031 - val_loss: 0.4219 - val_accuracy: 0.0000e+00 - val_precision_2: 0.8105\n",
            "Epoch 29/50\n",
            "532/624 [========================>.....] - ETA: 5s - loss: 0.2306 - accuracy: 7.6385e-04 - precision_2: 0.9094"
          ]
        },
        {
          "name": "stderr",
          "output_type": "stream",
          "text": [
            "C:\\Users\\disrct\\AppData\\Roaming\\Python\\Python311\\site-packages\\PIL\\TiffImagePlugin.py:866: UserWarning: Truncated File Read\n",
            "  warnings.warn(str(msg))\n"
          ]
        },
        {
          "name": "stdout",
          "output_type": "stream",
          "text": [
            "625/624 [==============================] - ETA: 0s - loss: 0.2287 - accuracy: 7.7519e-04 - precision_2: 0.9101INFO:tensorflow:Assets written to: model.29h5\\assets\n"
          ]
        },
        {
          "name": "stderr",
          "output_type": "stream",
          "text": [
            "INFO:tensorflow:Assets written to: model.29h5\\assets\n"
          ]
        },
        {
          "name": "stdout",
          "output_type": "stream",
          "text": [
            "624/624 [==============================] - 39s 62ms/step - loss: 0.2287 - accuracy: 7.7519e-04 - precision_2: 0.9101 - val_loss: 0.4559 - val_accuracy: 0.0000e+00 - val_precision_2: 0.8001\n",
            "Epoch 30/50\n",
            " 70/624 [==>...........................] - ETA: 30s - loss: 0.1870 - accuracy: 6.6964e-04 - precision_2: 0.9263"
          ]
        },
        {
          "name": "stderr",
          "output_type": "stream",
          "text": [
            "C:\\Users\\disrct\\AppData\\Roaming\\Python\\Python311\\site-packages\\PIL\\TiffImagePlugin.py:866: UserWarning: Truncated File Read\n",
            "  warnings.warn(str(msg))\n"
          ]
        },
        {
          "name": "stdout",
          "output_type": "stream",
          "text": [
            "625/624 [==============================] - ETA: 0s - loss: 0.2233 - accuracy: 0.0012 - precision_2: 0.9121INFO:tensorflow:Assets written to: model.30h5\\assets\n"
          ]
        },
        {
          "name": "stderr",
          "output_type": "stream",
          "text": [
            "INFO:tensorflow:Assets written to: model.30h5\\assets\n"
          ]
        },
        {
          "name": "stdout",
          "output_type": "stream",
          "text": [
            "624/624 [==============================] - 38s 61ms/step - loss: 0.2233 - accuracy: 0.0012 - precision_2: 0.9121 - val_loss: 0.4813 - val_accuracy: 0.0000e+00 - val_precision_2: 0.7976\n",
            "Epoch 31/50\n",
            "448/624 [====================>.........] - ETA: 9s - loss: 0.2237 - accuracy: 3.4889e-04 - precision_2: 0.9136 "
          ]
        },
        {
          "name": "stderr",
          "output_type": "stream",
          "text": [
            "C:\\Users\\disrct\\AppData\\Roaming\\Python\\Python311\\site-packages\\PIL\\TiffImagePlugin.py:866: UserWarning: Truncated File Read\n",
            "  warnings.warn(str(msg))\n"
          ]
        },
        {
          "name": "stdout",
          "output_type": "stream",
          "text": [
            "625/624 [==============================] - ETA: 0s - loss: 0.2243 - accuracy: 5.0013e-04 - precision_2: 0.9133INFO:tensorflow:Assets written to: model.31h5\\assets\n"
          ]
        },
        {
          "name": "stderr",
          "output_type": "stream",
          "text": [
            "INFO:tensorflow:Assets written to: model.31h5\\assets\n"
          ]
        },
        {
          "name": "stdout",
          "output_type": "stream",
          "text": [
            "624/624 [==============================] - 39s 62ms/step - loss: 0.2243 - accuracy: 5.0013e-04 - precision_2: 0.9133 - val_loss: 0.4269 - val_accuracy: 0.0000e+00 - val_precision_2: 0.8175\n",
            "Epoch 32/50\n",
            "619/624 [============================>.] - ETA: 0s - loss: 0.2158 - accuracy: 5.5547e-04 - precision_2: 0.9145"
          ]
        },
        {
          "name": "stderr",
          "output_type": "stream",
          "text": [
            "C:\\Users\\disrct\\AppData\\Roaming\\Python\\Python311\\site-packages\\PIL\\TiffImagePlugin.py:866: UserWarning: Truncated File Read\n",
            "  warnings.warn(str(msg))\n"
          ]
        },
        {
          "name": "stdout",
          "output_type": "stream",
          "text": [
            "625/624 [==============================] - ETA: 0s - loss: 0.2155 - accuracy: 5.5014e-04 - precision_2: 0.9146INFO:tensorflow:Assets written to: model.32h5\\assets\n"
          ]
        },
        {
          "name": "stderr",
          "output_type": "stream",
          "text": [
            "INFO:tensorflow:Assets written to: model.32h5\\assets\n"
          ]
        },
        {
          "name": "stdout",
          "output_type": "stream",
          "text": [
            "624/624 [==============================] - 38s 61ms/step - loss: 0.2155 - accuracy: 5.5014e-04 - precision_2: 0.9146 - val_loss: 0.4234 - val_accuracy: 0.0000e+00 - val_precision_2: 0.8239\n",
            "Epoch 33/50\n",
            "216/624 [=========>....................] - ETA: 22s - loss: 0.2003 - accuracy: 3.6169e-04 - precision_2: 0.9219"
          ]
        },
        {
          "name": "stderr",
          "output_type": "stream",
          "text": [
            "C:\\Users\\disrct\\AppData\\Roaming\\Python\\Python311\\site-packages\\PIL\\TiffImagePlugin.py:866: UserWarning: Truncated File Read\n",
            "  warnings.warn(str(msg))\n"
          ]
        },
        {
          "name": "stdout",
          "output_type": "stream",
          "text": [
            "625/624 [==============================] - ETA: 0s - loss: 0.2078 - accuracy: 0.0013 - precision_2: 0.9172INFO:tensorflow:Assets written to: model.33h5\\assets\n"
          ]
        },
        {
          "name": "stderr",
          "output_type": "stream",
          "text": [
            "INFO:tensorflow:Assets written to: model.33h5\\assets\n"
          ]
        },
        {
          "name": "stdout",
          "output_type": "stream",
          "text": [
            "624/624 [==============================] - 39s 62ms/step - loss: 0.2078 - accuracy: 0.0013 - precision_2: 0.9172 - val_loss: 0.4569 - val_accuracy: 0.0000e+00 - val_precision_2: 0.7941\n",
            "Epoch 34/50\n",
            "171/624 [=======>......................] - ETA: 26s - loss: 0.2012 - accuracy: 0.0017 - precision_2: 0.9214"
          ]
        },
        {
          "name": "stderr",
          "output_type": "stream",
          "text": [
            "C:\\Users\\disrct\\AppData\\Roaming\\Python\\Python311\\site-packages\\PIL\\TiffImagePlugin.py:866: UserWarning: Truncated File Read\n",
            "  warnings.warn(str(msg))\n"
          ]
        },
        {
          "name": "stdout",
          "output_type": "stream",
          "text": [
            "624/624 [============================>.] - ETA: 0s - loss: 0.2046 - accuracy: 9.2671e-04 - precision_2: 0.9209INFO:tensorflow:Assets written to: model.34h5\\assets\n"
          ]
        },
        {
          "name": "stderr",
          "output_type": "stream",
          "text": [
            "INFO:tensorflow:Assets written to: model.34h5\\assets\n"
          ]
        },
        {
          "name": "stdout",
          "output_type": "stream",
          "text": [
            "624/624 [==============================] - 39s 63ms/step - loss: 0.2047 - accuracy: 9.2523e-04 - precision_2: 0.9209 - val_loss: 0.4303 - val_accuracy: 0.0000e+00 - val_precision_2: 0.8244\n",
            "Epoch 35/50\n",
            "400/624 [==================>...........] - ETA: 12s - loss: 0.2032 - accuracy: 9.7694e-04 - precision_2: 0.9218"
          ]
        },
        {
          "name": "stderr",
          "output_type": "stream",
          "text": [
            "C:\\Users\\disrct\\AppData\\Roaming\\Python\\Python311\\site-packages\\PIL\\TiffImagePlugin.py:866: UserWarning: Truncated File Read\n",
            "  warnings.warn(str(msg))\n"
          ]
        },
        {
          "name": "stdout",
          "output_type": "stream",
          "text": [
            "625/624 [==============================] - ETA: 0s - loss: 0.2036 - accuracy: 6.7517e-04 - precision_2: 0.9216INFO:tensorflow:Assets written to: model.35h5\\assets\n"
          ]
        },
        {
          "name": "stderr",
          "output_type": "stream",
          "text": [
            "INFO:tensorflow:Assets written to: model.35h5\\assets\n"
          ]
        },
        {
          "name": "stdout",
          "output_type": "stream",
          "text": [
            "624/624 [==============================] - 40s 63ms/step - loss: 0.2036 - accuracy: 6.7517e-04 - precision_2: 0.9216 - val_loss: 0.4853 - val_accuracy: 2.4802e-04 - val_precision_2: 0.8100\n",
            "Epoch 36/50\n",
            "586/624 [===========================>..] - ETA: 2s - loss: 0.1948 - accuracy: 0.0011 - precision_2: 0.9251"
          ]
        },
        {
          "name": "stderr",
          "output_type": "stream",
          "text": [
            "C:\\Users\\disrct\\AppData\\Roaming\\Python\\Python311\\site-packages\\PIL\\TiffImagePlugin.py:866: UserWarning: Truncated File Read\n",
            "  warnings.warn(str(msg))\n"
          ]
        },
        {
          "name": "stdout",
          "output_type": "stream",
          "text": [
            "625/624 [==============================] - ETA: 0s - loss: 0.1945 - accuracy: 0.0011 - precision_2: 0.9252INFO:tensorflow:Assets written to: model.36h5\\assets\n"
          ]
        },
        {
          "name": "stderr",
          "output_type": "stream",
          "text": [
            "INFO:tensorflow:Assets written to: model.36h5\\assets\n"
          ]
        },
        {
          "name": "stdout",
          "output_type": "stream",
          "text": [
            "624/624 [==============================] - 40s 63ms/step - loss: 0.1945 - accuracy: 0.0011 - precision_2: 0.9252 - val_loss: 0.4816 - val_accuracy: 0.0000e+00 - val_precision_2: 0.8120\n",
            "Epoch 37/50\n",
            "295/624 [=============>................] - ETA: 18s - loss: 0.2030 - accuracy: 0.0010 - precision_2: 0.9200 "
          ]
        },
        {
          "name": "stderr",
          "output_type": "stream",
          "text": [
            "C:\\Users\\disrct\\AppData\\Roaming\\Python\\Python311\\site-packages\\PIL\\TiffImagePlugin.py:866: UserWarning: Truncated File Read\n",
            "  warnings.warn(str(msg))\n"
          ]
        },
        {
          "name": "stdout",
          "output_type": "stream",
          "text": [
            "625/624 [==============================] - ETA: 0s - loss: 0.1998 - accuracy: 9.2523e-04 - precision_2: 0.9214INFO:tensorflow:Assets written to: model.37h5\\assets\n"
          ]
        },
        {
          "name": "stderr",
          "output_type": "stream",
          "text": [
            "INFO:tensorflow:Assets written to: model.37h5\\assets\n"
          ]
        },
        {
          "name": "stdout",
          "output_type": "stream",
          "text": [
            "624/624 [==============================] - 39s 62ms/step - loss: 0.1998 - accuracy: 9.2523e-04 - precision_2: 0.9214 - val_loss: 0.4701 - val_accuracy: 0.0000e+00 - val_precision_2: 0.8011\n",
            "Epoch 38/50\n",
            "598/624 [===========================>..] - ETA: 1s - loss: 0.1890 - accuracy: 8.1020e-04 - precision_2: 0.9272"
          ]
        },
        {
          "name": "stderr",
          "output_type": "stream",
          "text": [
            "C:\\Users\\disrct\\AppData\\Roaming\\Python\\Python311\\site-packages\\PIL\\TiffImagePlugin.py:866: UserWarning: Truncated File Read\n",
            "  warnings.warn(str(msg))\n"
          ]
        },
        {
          "name": "stdout",
          "output_type": "stream",
          "text": [
            "625/624 [==============================] - ETA: 0s - loss: 0.1889 - accuracy: 7.7519e-04 - precision_2: 0.9273INFO:tensorflow:Assets written to: model.38h5\\assets\n"
          ]
        },
        {
          "name": "stderr",
          "output_type": "stream",
          "text": [
            "INFO:tensorflow:Assets written to: model.38h5\\assets\n"
          ]
        },
        {
          "name": "stdout",
          "output_type": "stream",
          "text": [
            "624/624 [==============================] - 39s 62ms/step - loss: 0.1889 - accuracy: 7.7519e-04 - precision_2: 0.9273 - val_loss: 0.4781 - val_accuracy: 0.0000e+00 - val_precision_2: 0.8130\n",
            "Epoch 39/50\n",
            "576/624 [==========================>...] - ETA: 2s - loss: 0.1847 - accuracy: 0.0014 - precision_2: 0.9296"
          ]
        },
        {
          "name": "stderr",
          "output_type": "stream",
          "text": [
            "C:\\Users\\disrct\\AppData\\Roaming\\Python\\Python311\\site-packages\\PIL\\TiffImagePlugin.py:866: UserWarning: Truncated File Read\n",
            "  warnings.warn(str(msg))\n"
          ]
        },
        {
          "name": "stdout",
          "output_type": "stream",
          "text": [
            "625/624 [==============================] - ETA: 0s - loss: 0.1830 - accuracy: 0.0013 - precision_2: 0.9302INFO:tensorflow:Assets written to: model.39h5\\assets\n"
          ]
        },
        {
          "name": "stderr",
          "output_type": "stream",
          "text": [
            "INFO:tensorflow:Assets written to: model.39h5\\assets\n"
          ]
        },
        {
          "name": "stdout",
          "output_type": "stream",
          "text": [
            "624/624 [==============================] - 39s 62ms/step - loss: 0.1830 - accuracy: 0.0013 - precision_2: 0.9302 - val_loss: 0.5054 - val_accuracy: 2.4802e-04 - val_precision_2: 0.8065\n",
            "Epoch 40/50\n",
            "484/624 [======================>.......] - ETA: 8s - loss: 0.1808 - accuracy: 0.0019 - precision_2: 0.9307"
          ]
        },
        {
          "name": "stderr",
          "output_type": "stream",
          "text": [
            "C:\\Users\\disrct\\AppData\\Roaming\\Python\\Python311\\site-packages\\PIL\\TiffImagePlugin.py:866: UserWarning: Truncated File Read\n",
            "  warnings.warn(str(msg))\n"
          ]
        },
        {
          "name": "stdout",
          "output_type": "stream",
          "text": [
            "625/624 [==============================] - ETA: 0s - loss: 0.1817 - accuracy: 0.0016 - precision_2: 0.9303INFO:tensorflow:Assets written to: model.40h5\\assets\n"
          ]
        },
        {
          "name": "stderr",
          "output_type": "stream",
          "text": [
            "INFO:tensorflow:Assets written to: model.40h5\\assets\n"
          ]
        },
        {
          "name": "stdout",
          "output_type": "stream",
          "text": [
            "624/624 [==============================] - 39s 63ms/step - loss: 0.1817 - accuracy: 0.0016 - precision_2: 0.9303 - val_loss: 0.4586 - val_accuracy: 0.0000e+00 - val_precision_2: 0.8140\n",
            "Epoch 41/50\n",
            "609/624 [============================>.] - ETA: 0s - loss: 0.1776 - accuracy: 0.0021 - precision_2: 0.9326"
          ]
        },
        {
          "name": "stderr",
          "output_type": "stream",
          "text": [
            "C:\\Users\\disrct\\AppData\\Roaming\\Python\\Python311\\site-packages\\PIL\\TiffImagePlugin.py:866: UserWarning: Truncated File Read\n",
            "  warnings.warn(str(msg))\n"
          ]
        },
        {
          "name": "stdout",
          "output_type": "stream",
          "text": [
            "625/624 [==============================] - ETA: 0s - loss: 0.1791 - accuracy: 0.0021 - precision_2: 0.9321INFO:tensorflow:Assets written to: model.41h5\\assets\n"
          ]
        },
        {
          "name": "stderr",
          "output_type": "stream",
          "text": [
            "INFO:tensorflow:Assets written to: model.41h5\\assets\n"
          ]
        },
        {
          "name": "stdout",
          "output_type": "stream",
          "text": [
            "624/624 [==============================] - 39s 63ms/step - loss: 0.1791 - accuracy: 0.0021 - precision_2: 0.9321 - val_loss: 0.4803 - val_accuracy: 0.0000e+00 - val_precision_2: 0.8006\n",
            "Epoch 42/50\n",
            "344/624 [===============>..............] - ETA: 15s - loss: 0.1626 - accuracy: 0.0025 - precision_2: 0.9411"
          ]
        },
        {
          "name": "stderr",
          "output_type": "stream",
          "text": [
            "C:\\Users\\disrct\\AppData\\Roaming\\Python\\Python311\\site-packages\\PIL\\TiffImagePlugin.py:866: UserWarning: Truncated File Read\n",
            "  warnings.warn(str(msg))\n"
          ]
        },
        {
          "name": "stdout",
          "output_type": "stream",
          "text": [
            "625/624 [==============================] - ETA: 0s - loss: 0.1714 - accuracy: 0.0017 - precision_2: 0.9371INFO:tensorflow:Assets written to: model.42h5\\assets\n"
          ]
        },
        {
          "name": "stderr",
          "output_type": "stream",
          "text": [
            "INFO:tensorflow:Assets written to: model.42h5\\assets\n"
          ]
        },
        {
          "name": "stdout",
          "output_type": "stream",
          "text": [
            "624/624 [==============================] - 38s 61ms/step - loss: 0.1714 - accuracy: 0.0017 - precision_2: 0.9371 - val_loss: 0.5458 - val_accuracy: 4.9603e-04 - val_precision_2: 0.7991\n",
            "Epoch 43/50\n",
            "312/624 [=============>................] - ETA: 17s - loss: 0.1703 - accuracy: 0.0014 - precision_2: 0.9403"
          ]
        },
        {
          "name": "stderr",
          "output_type": "stream",
          "text": [
            "C:\\Users\\disrct\\AppData\\Roaming\\Python\\Python311\\site-packages\\PIL\\TiffImagePlugin.py:866: UserWarning: Truncated File Read\n",
            "  warnings.warn(str(msg))\n"
          ]
        },
        {
          "name": "stdout",
          "output_type": "stream",
          "text": [
            "625/624 [==============================] - ETA: 0s - loss: 0.1711 - accuracy: 0.0010 - precision_2: 0.9375INFO:tensorflow:Assets written to: model.43h5\\assets\n"
          ]
        },
        {
          "name": "stderr",
          "output_type": "stream",
          "text": [
            "INFO:tensorflow:Assets written to: model.43h5\\assets\n"
          ]
        },
        {
          "name": "stdout",
          "output_type": "stream",
          "text": [
            "624/624 [==============================] - 38s 61ms/step - loss: 0.1711 - accuracy: 0.0010 - precision_2: 0.9375 - val_loss: 0.5093 - val_accuracy: 2.4802e-04 - val_precision_2: 0.7912\n",
            "Epoch 44/50\n",
            "487/624 [======================>.......] - ETA: 7s - loss: 0.1717 - accuracy: 0.0010 - precision_2: 0.9362  "
          ]
        },
        {
          "name": "stderr",
          "output_type": "stream",
          "text": [
            "C:\\Users\\disrct\\AppData\\Roaming\\Python\\Python311\\site-packages\\PIL\\TiffImagePlugin.py:866: UserWarning: Truncated File Read\n",
            "  warnings.warn(str(msg))\n"
          ]
        },
        {
          "name": "stdout",
          "output_type": "stream",
          "text": [
            "625/624 [==============================] - ETA: 0s - loss: 0.1716 - accuracy: 0.0012 - precision_2: 0.9361INFO:tensorflow:Assets written to: model.44h5\\assets\n"
          ]
        },
        {
          "name": "stderr",
          "output_type": "stream",
          "text": [
            "INFO:tensorflow:Assets written to: model.44h5\\assets\n"
          ]
        },
        {
          "name": "stdout",
          "output_type": "stream",
          "text": [
            "624/624 [==============================] - 38s 61ms/step - loss: 0.1716 - accuracy: 0.0012 - precision_2: 0.9361 - val_loss: 0.4691 - val_accuracy: 9.9206e-04 - val_precision_2: 0.8130\n",
            "Epoch 45/50\n",
            "431/624 [===================>..........] - ETA: 10s - loss: 0.1732 - accuracy: 0.0036 - precision_2: 0.9354"
          ]
        },
        {
          "name": "stderr",
          "output_type": "stream",
          "text": [
            "C:\\Users\\disrct\\AppData\\Roaming\\Python\\Python311\\site-packages\\PIL\\TiffImagePlugin.py:866: UserWarning: Truncated File Read\n",
            "  warnings.warn(str(msg))\n"
          ]
        },
        {
          "name": "stdout",
          "output_type": "stream",
          "text": [
            "625/624 [==============================] - ETA: 0s - loss: 0.1706 - accuracy: 0.0035 - precision_2: 0.9366INFO:tensorflow:Assets written to: model.45h5\\assets\n"
          ]
        },
        {
          "name": "stderr",
          "output_type": "stream",
          "text": [
            "INFO:tensorflow:Assets written to: model.45h5\\assets\n"
          ]
        },
        {
          "name": "stdout",
          "output_type": "stream",
          "text": [
            "624/624 [==============================] - 38s 61ms/step - loss: 0.1706 - accuracy: 0.0035 - precision_2: 0.9366 - val_loss: 0.4811 - val_accuracy: 0.0000e+00 - val_precision_2: 0.8065\n",
            "Epoch 46/50\n",
            "141/624 [=====>........................] - ETA: 26s - loss: 0.1703 - accuracy: 0.0019 - precision_2: 0.9395"
          ]
        },
        {
          "name": "stderr",
          "output_type": "stream",
          "text": [
            "C:\\Users\\disrct\\AppData\\Roaming\\Python\\Python311\\site-packages\\PIL\\TiffImagePlugin.py:866: UserWarning: Truncated File Read\n",
            "  warnings.warn(str(msg))\n"
          ]
        },
        {
          "name": "stdout",
          "output_type": "stream",
          "text": [
            "625/624 [==============================] - ETA: 0s - loss: 0.1670 - accuracy: 0.0022 - precision_2: 0.9385INFO:tensorflow:Assets written to: model.46h5\\assets\n"
          ]
        },
        {
          "name": "stderr",
          "output_type": "stream",
          "text": [
            "INFO:tensorflow:Assets written to: model.46h5\\assets\n"
          ]
        },
        {
          "name": "stdout",
          "output_type": "stream",
          "text": [
            "624/624 [==============================] - 39s 62ms/step - loss: 0.1670 - accuracy: 0.0022 - precision_2: 0.9385 - val_loss: 0.4757 - val_accuracy: 0.0000e+00 - val_precision_2: 0.8080\n",
            "Epoch 47/50\n",
            " 57/624 [=>............................] - ETA: 33s - loss: 0.1608 - accuracy: 2.7412e-04 - precision_2: 0.9386"
          ]
        },
        {
          "name": "stderr",
          "output_type": "stream",
          "text": [
            "C:\\Users\\disrct\\AppData\\Roaming\\Python\\Python311\\site-packages\\PIL\\TiffImagePlugin.py:866: UserWarning: Truncated File Read\n",
            "  warnings.warn(str(msg))\n"
          ]
        },
        {
          "name": "stdout",
          "output_type": "stream",
          "text": [
            "625/624 [==============================] - ETA: 0s - loss: 0.1559 - accuracy: 0.0012 - precision_2: 0.9416INFO:tensorflow:Assets written to: model.47h5\\assets\n"
          ]
        },
        {
          "name": "stderr",
          "output_type": "stream",
          "text": [
            "INFO:tensorflow:Assets written to: model.47h5\\assets\n"
          ]
        },
        {
          "name": "stdout",
          "output_type": "stream",
          "text": [
            "624/624 [==============================] - 39s 62ms/step - loss: 0.1559 - accuracy: 0.0012 - precision_2: 0.9416 - val_loss: 0.5234 - val_accuracy: 7.4405e-04 - val_precision_2: 0.7981\n",
            "Epoch 48/50\n",
            "436/624 [===================>..........] - ETA: 10s - loss: 0.1619 - accuracy: 0.0021 - precision_2: 0.9403"
          ]
        },
        {
          "name": "stderr",
          "output_type": "stream",
          "text": [
            "C:\\Users\\disrct\\AppData\\Roaming\\Python\\Python311\\site-packages\\PIL\\TiffImagePlugin.py:866: UserWarning: Truncated File Read\n",
            "  warnings.warn(str(msg))\n"
          ]
        },
        {
          "name": "stdout",
          "output_type": "stream",
          "text": [
            "624/624 [============================>.] - ETA: 0s - loss: 0.1617 - accuracy: 0.0019 - precision_2: 0.9406INFO:tensorflow:Assets written to: model.48h5\\assets\n"
          ]
        },
        {
          "name": "stderr",
          "output_type": "stream",
          "text": [
            "INFO:tensorflow:Assets written to: model.48h5\\assets\n"
          ]
        },
        {
          "name": "stdout",
          "output_type": "stream",
          "text": [
            "624/624 [==============================] - 39s 63ms/step - loss: 0.1619 - accuracy: 0.0019 - precision_2: 0.9406 - val_loss: 0.5391 - val_accuracy: 0.0000e+00 - val_precision_2: 0.8051\n",
            "Epoch 49/50\n",
            "618/624 [============================>.] - ETA: 0s - loss: 0.1515 - accuracy: 0.0020 - precision_2: 0.9460"
          ]
        },
        {
          "name": "stderr",
          "output_type": "stream",
          "text": [
            "C:\\Users\\disrct\\AppData\\Roaming\\Python\\Python311\\site-packages\\PIL\\TiffImagePlugin.py:866: UserWarning: Truncated File Read\n",
            "  warnings.warn(str(msg))\n"
          ]
        },
        {
          "name": "stdout",
          "output_type": "stream",
          "text": [
            "625/624 [==============================] - ETA: 0s - loss: 0.1517 - accuracy: 0.0020 - precision_2: 0.9459INFO:tensorflow:Assets written to: model.49h5\\assets\n"
          ]
        },
        {
          "name": "stderr",
          "output_type": "stream",
          "text": [
            "INFO:tensorflow:Assets written to: model.49h5\\assets\n"
          ]
        },
        {
          "name": "stdout",
          "output_type": "stream",
          "text": [
            "624/624 [==============================] - 39s 63ms/step - loss: 0.1517 - accuracy: 0.0020 - precision_2: 0.9459 - val_loss: 0.5551 - val_accuracy: 9.9206e-04 - val_precision_2: 0.8026\n",
            "Epoch 50/50\n",
            "448/624 [====================>.........] - ETA: 9s - loss: 0.1563 - accuracy: 0.0016 - precision_2: 0.9428 "
          ]
        },
        {
          "name": "stderr",
          "output_type": "stream",
          "text": [
            "C:\\Users\\disrct\\AppData\\Roaming\\Python\\Python311\\site-packages\\PIL\\TiffImagePlugin.py:866: UserWarning: Truncated File Read\n",
            "  warnings.warn(str(msg))\n"
          ]
        },
        {
          "name": "stdout",
          "output_type": "stream",
          "text": [
            "625/624 [==============================] - ETA: 0s - loss: 0.1566 - accuracy: 0.0015 - precision_2: 0.9429INFO:tensorflow:Assets written to: model.50h5\\assets\n"
          ]
        },
        {
          "name": "stderr",
          "output_type": "stream",
          "text": [
            "INFO:tensorflow:Assets written to: model.50h5\\assets\n"
          ]
        },
        {
          "name": "stdout",
          "output_type": "stream",
          "text": [
            "624/624 [==============================] - 39s 62ms/step - loss: 0.1566 - accuracy: 0.0015 - precision_2: 0.9429 - val_loss: 0.4618 - val_accuracy: 0.0000e+00 - val_precision_2: 0.8080\n",
            "INFO:tensorflow:Assets written to: model\\assets\n"
          ]
        },
        {
          "name": "stderr",
          "output_type": "stream",
          "text": [
            "INFO:tensorflow:Assets written to: model\\assets\n"
          ]
        }
      ],
      "source": [
        "model.fit(\n",
        "    X_train,\n",
        "    validation_data = X_tests,\n",
        "    steps_per_epoch = total_data / batch_size,\n",
        "    epochs = 50,\n",
        "    validation_steps = (total_data / batch_size) / 10, \n",
        "    callbacks = [\n",
        "        callbacks.ModelCheckpoint(\n",
        "            filepath = 'model.{epoch:02d}h5'\n",
        "        )\n",
        "    ]\n",
        ")\n",
        "\n",
        "model.save('model')"
      ]
    },
    {
      "cell_type": "code",
      "execution_count": null,
      "metadata": {},
      "outputs": [],
      "source": []
    }
  ],
  "metadata": {
    "colab": {
      "authorship_tag": "ABX9TyPgEP4L6LqfoIl1CCO2me9L",
      "include_colab_link": true,
      "provenance": []
    },
    "kernelspec": {
      "display_name": "Python 3",
      "name": "python3"
    },
    "language_info": {
      "codemirror_mode": {
        "name": "ipython",
        "version": 3
      },
      "file_extension": ".py",
      "mimetype": "text/x-python",
      "name": "python",
      "nbconvert_exporter": "python",
      "pygments_lexer": "ipython3",
      "version": "3.11.2"
    }
  },
  "nbformat": 4,
  "nbformat_minor": 0
}
